{
 "cells": [
  {
   "cell_type": "markdown",
   "id": "c81deab0-affb-4733-8a51-ee8e7f7c4ec7",
   "metadata": {},
   "source": [
    "<span style=\"font-size:9pt\">Copyright Jean-Luc CHARLES (Jean-Luc.charles@ensam.eu) 2022 CC BY-SA 4.0</span>"
   ]
  },
  {
   "cell_type": "markdown",
   "id": "f7d1cb26-087f-4678-b786-48abbbe5883c",
   "metadata": {},
   "source": [
    "# Machine learning avec les modules Python tensorflow2/keras :\n",
    "\n",
    "# Entraînement d'un réseau de neurones dense à classifier des données issues d'un banc de perçage\n",
    "\n",
    "version 3.1 du 6 novembre 2022"
   ]
  },
  {
   "cell_type": "markdown",
   "id": "a23e2a5c-763c-438b-86f8-c2edd39f1001",
   "metadata": {},
   "source": [
    "<div class=\"alert alert-block alert-danger\">\n",
    "<span style=\"color:brown;font-family:arial;font-size:normal\"> \n",
    "    Ce notebook doit être chargé dans un processus <b>jupyter notebook</b> lancé dans l'EVP <b><span style=\"color: rgb(80, 151, 102);\">minfo_ml</span></b> créé en suivant la procédure du document <b>Consignes.pdf</b>."
   ]
  },
  {
   "cell_type": "markdown",
   "id": "3d603a2c-e10a-4acd-822b-34fb42471a8d",
   "metadata": {},
   "source": [
    "## Import des modules Python requis :"
   ]
  },
  {
   "cell_type": "code",
   "execution_count": 1,
   "id": "62e93dcf",
   "metadata": {},
   "outputs": [
    {
     "name": "stdout",
     "output_type": "stream",
     "text": [
      "Python    : 3.8.13\n",
      "tensorflow: 2.8.0 incluant keras 2.8.0\n",
      "numpy     : 1.21.2\n"
     ]
    }
   ],
   "source": [
    "import os, sys\n",
    "\n",
    "# clean tensorflow warnings:\n",
    "os.environ['TF_CPP_MIN_LOG_LEVEL'] = '3'\n",
    "\n",
    "# the seed to make random genetors repetables:\n",
    "SEED = 1234 \n",
    "\n",
    "import tensorflow as tf\n",
    "from tensorflow import keras\n",
    "import numpy as np\n",
    "\n",
    "import matplotlib.pyplot as plt\n",
    "print(f\"Python    : {sys.version.split()[0]}\")\n",
    "print(f\"tensorflow: {tf.__version__} incluant keras {keras.__version__}\")\n",
    "print(f\"numpy     : {np.__version__}\")"
   ]
  },
  {
   "cell_type": "markdown",
   "id": "57edd2f0-ccce-43a8-a596-2ab5404d00b3",
   "metadata": {},
   "source": [
    "### Définition de la fonction `read_csv` qui sera utilisée pour la lecture des fichiers CSV :"
   ]
  },
  {
   "cell_type": "code",
   "execution_count": 2,
   "id": "9ac02ae0",
   "metadata": {},
   "outputs": [],
   "source": [
    "def read_csv(file: str, last_param_rank:int, verbose=False) -> (np.ndarray, np.ndarray, list, list):\n",
    "    '''\n",
    "    Lire les fichiers CSV (Comma Separated Values) en 'corrigeant les petits défauts'.\n",
    "    Paramètres: \n",
    "      file:str: nom du fichier à lire\n",
    "      last_param_rank:int: le rang de la dernière colonne paramètre (commençant à 0)\n",
    "      verbole:bool: mode verbeux ou non-verbeux\n",
    "    Renvoie:\n",
    "      data:ndarray: le tableau ndarray des valeurs lues\n",
    "      label:ndarray: le tableau des labels\n",
    "      param:str: la liste des paramètres\n",
    "      header:str: l'entête des colonnes du fichier CSV\n",
    "    '''\n",
    "    param, data, label, header = [], [], [], []\n",
    "    with open(file, encoding='utf8') as f:\n",
    "        for i, line in enumerate(f):\n",
    "            if i == 0: \n",
    "                header=line.strip().split(';')\n",
    "                continue\n",
    "            if verbose: print(i,line)\n",
    "            line = line.strip().replace(',','.').split(';')\n",
    "            list_param = line[:last_param_rank+1]    # from 0 to 'last_param_rank' excluded: the parameters\n",
    "            list_data  = line[last_param_rank+1:-3]  # from rank 'last_param_rank' to the end: the data\n",
    "            list_label = line[-1]                    # last column: the labels\n",
    "            param.append(list_param)\n",
    "            data.append(list_data)\n",
    "            label.append(list_label)\n",
    "    data = np.array(data).astype(float)\n",
    "    label = np.array(label).astype(int)\n",
    "    return data, label, param, header"
   ]
  },
  {
   "cell_type": "markdown",
   "id": "2963de97",
   "metadata": {},
   "source": [
    "# 1 - Lire le fichier CSV et préparer les données labellisées"
   ]
  },
  {
   "cell_type": "markdown",
   "id": "d076625e-7cf1-494f-8dd3-1057ec92f837",
   "metadata": {},
   "source": [
    "## 1.1 $-$ Lire le fichier CSV :\n",
    "\n",
    "Ouvrir le fichier CSV `Dataset.csv` avec un tableur ; le fichier est organisé en colonnes :\n",
    "- la colonne `A` (*rank: 0*) donne le numéro de l'essai de perçage,\n",
    "- suivent plusieurs colonnes donnant, dans l'ordre des rangs croisants :\n",
    "    - les **paramètres** de perçage, commençant avec la colonne `B` (*rank: 1*) de label `Longueur percee eprouvetteAlCFRP(mm)`,\n",
    "    - les **indicateurs caractéristiques** (les *features*), commençant avec la colonne de label `KcFz`: ces indicateurs sont calculée avec les données brutes acquises sur le banc de perçage avec les différents capteurs (accéléromètre, capteur de courant...).\n",
    "    \n",
    "Le détails des traitements permettant d'obtenir certains des indicateurs avec les données temporelles brutes fera l'objet de séances de travail dédiées."
   ]
  },
  {
   "cell_type": "markdown",
   "id": "349bad70-1ba6-4398-beba-90c7d1323571",
   "metadata": {},
   "source": [
    "À l'aide de la fonction `read_csv` définie ci-dessus, lire le fichier `Dataset.csv` situé dans le répertoire courant:\n",
    "- en observant le fichier `Dataset.csv` ouvert dans un tableur, trouver la valeur du rang de la dernière colonne des paramètres,\n",
    "- nommer `data`, `label`, `param` et `header` les objets renvoyés par la fonction..."
   ]
  },
  {
   "cell_type": "code",
   "execution_count": 3,
   "id": "7847a5e2-6bda-4f9e-8718-b2588a1a160b",
   "metadata": {},
   "outputs": [],
   "source": [
    "data, label, param, header = read_csv('Dataset.csv', 14)"
   ]
  },
  {
   "cell_type": "markdown",
   "id": "2c0087f8-32f5-4307-b17a-e0ab65bd1f71",
   "metadata": {},
   "source": [
    "Faire afficher l'attribut `shape` des tableaux `data` et `label`:"
   ]
  },
  {
   "cell_type": "code",
   "execution_count": 4,
   "id": "7a01d68a-12fb-49e4-91b8-f23017fb343c",
   "metadata": {},
   "outputs": [
    {
     "data": {
      "text/plain": [
       "((356, 50), (356,))"
      ]
     },
     "execution_count": 4,
     "metadata": {},
     "output_type": "execute_result"
    }
   ],
   "source": [
    "data.shape, label.shape "
   ]
  },
  {
   "cell_type": "markdown",
   "id": "b9d47376-1f2a-48af-923d-5ebd3507825b",
   "metadata": {},
   "source": [
    "Est-ce que ces valeurs paraissent en cohérence avec le contenu du ficher CSV ?<br>\n",
    "Il est important de pouvoir expliquer les valeurs des dimensions des tableaux...."
   ]
  },
  {
   "cell_type": "markdown",
   "id": "7eff76c7-083b-4284-bbec-21818c395740",
   "metadata": {},
   "source": [
    "Vérifier les données de la première ligne du tableau `data` par comparaison visuelle avec le tableur :"
   ]
  },
  {
   "cell_type": "code",
   "execution_count": 5,
   "id": "efd69af5",
   "metadata": {},
   "outputs": [
    {
     "data": {
      "text/plain": [
       "array([ 4.07111857e+02,  4.67130779e+02, -1.68192509e+01,  2.59126697e+02,\n",
       "        1.41883454e+02, -1.44707830e+00, -2.38782680e-01,  2.01309146e+04,\n",
       "        1.27532583e+00,  5.24100367e+00, -4.25671060e+00,  8.11744892e-01,\n",
       "        1.92336596e+00, -6.80682771e-01, -3.58838557e-01,  3.69933662e+00,\n",
       "        1.13944183e+01,  4.83412238e+00,  2.92271392e+00,  5.08095204e-01,\n",
       "        3.40000000e-01,  2.93000000e-01,  3.23402597e-01,  1.67168838e-02,\n",
       "       -5.48846864e-01, -9.12838318e-01,  2.79454204e-04,  3.56627661e+01,\n",
       "        2.32420000e+01,  2.18260000e+01,  2.26993506e+01,  4.28199252e-01,\n",
       "       -5.44160812e-01, -7.39967001e-01,  1.83354599e-01,  1.07218644e+01,\n",
       "        4.90193646e+00,  1.96512667e+02,  7.90036820e-01,  3.66294500e-01,\n",
       "        1.15993290e+00,  3.71161500e-02,  1.43772460e-01,  1.25540392e+00,\n",
       "        6.61860700e-02,  2.65101880e-01,  5.50328425e+00,  2.65337700e-02,\n",
       "        4.00878300e-02,  2.41660816e+00])"
      ]
     },
     "execution_count": 5,
     "metadata": {},
     "output_type": "execute_result"
    }
   ],
   "source": [
    "# un coup d'oeil sur la première ligne ds données: 50 nombres flottants\n",
    "data[0]  "
   ]
  },
  {
   "cell_type": "markdown",
   "id": "a0a051d1-d0e8-4e52-91f2-d80761e8fe21",
   "metadata": {},
   "source": [
    "Faire afficher le tableau `label` :"
   ]
  },
  {
   "cell_type": "code",
   "execution_count": 6,
   "id": "16245114",
   "metadata": {},
   "outputs": [
    {
     "data": {
      "text/plain": [
       "array([0, 0, 0, 0, 0, 0, 0, 0, 0, 0, 0, 0, 0, 0, 0, 0, 0, 0, 0, 0, 0, 0,\n",
       "       0, 0, 0, 0, 0, 0, 0, 0, 0, 0, 0, 0, 0, 0, 0, 0, 0, 0, 0, 0, 0, 0,\n",
       "       0, 0, 0, 0, 0, 0, 0, 0, 0, 0, 0, 0, 0, 0, 0, 0, 0, 0, 0, 0, 0, 0,\n",
       "       0, 0, 0, 0, 0, 0, 0, 0, 0, 0, 0, 0, 0, 0, 0, 0, 0, 0, 0, 0, 0, 0,\n",
       "       0, 0, 0, 0, 0, 0, 0, 0, 0, 0, 0, 0, 0, 0, 0, 0, 0, 0, 0, 0, 0, 0,\n",
       "       0, 0, 0, 0, 0, 0, 0, 0, 0, 0, 0, 0, 0, 0, 0, 0, 0, 0, 0, 0, 0, 0,\n",
       "       0, 0, 0, 0, 0, 0, 0, 0, 0, 0, 0, 0, 0, 0, 0, 0, 0, 0, 0, 0, 0, 0,\n",
       "       0, 0, 0, 0, 0, 0, 0, 0, 0, 0, 0, 0, 0, 0, 0, 0, 0, 0, 0, 0, 0, 0,\n",
       "       0, 0, 1, 1, 1, 1, 1, 1, 1, 1, 1, 1, 1, 1, 1, 1, 1, 1, 1, 1, 1, 1,\n",
       "       1, 1, 1, 1, 1, 1, 1, 1, 1, 1, 1, 1, 1, 1, 1, 1, 1, 1, 1, 1, 1, 1,\n",
       "       1, 1, 1, 1, 1, 1, 1, 1, 1, 1, 1, 1, 1, 1, 1, 1, 1, 1, 1, 1, 1, 1,\n",
       "       1, 1, 1, 1, 1, 1, 1, 1, 1, 1, 1, 1, 1, 1, 1, 1, 1, 1, 1, 1, 1, 1,\n",
       "       1, 1, 1, 1, 1, 1, 1, 1, 1, 1, 1, 1, 1, 1, 1, 1, 1, 1, 1, 1, 1, 1,\n",
       "       1, 1, 1, 1, 1, 1, 1, 1, 1, 1, 1, 1, 1, 1, 1, 1, 1, 1, 1, 1, 1, 1,\n",
       "       1, 1, 1, 1, 1, 1, 1, 1, 1, 1, 1, 1, 1, 1, 1, 1, 1, 1, 1, 1, 1, 1,\n",
       "       1, 1, 1, 1, 1, 1, 1, 1, 1, 1, 1, 1, 1, 1, 1, 1, 1, 1, 1, 1, 1, 1,\n",
       "       1, 1, 1, 1])"
      ]
     },
     "execution_count": 6,
     "metadata": {},
     "output_type": "execute_result"
    }
   ],
   "source": [
    "label"
   ]
  },
  {
   "cell_type": "markdown",
   "id": "709dfac1",
   "metadata": {},
   "source": [
    "Le tableau `label` montre qu'on a d'abord des essais de perçage avec le matériau `0`, puis avec le matériau `1`<br>\n",
    "=> il faudra faire des tirages aléatoires (*shuffle*) plus loin pour que l'apprentissage du réseau de neurones puisse se faire...."
   ]
  },
  {
   "cell_type": "markdown",
   "id": "bb8e7643",
   "metadata": {},
   "source": [
    "## 1.1 $-$ Normaliser les données\n",
    "\n",
    "Vous devez ici modifier chacune des lignes du tableau `data` pour les normaliser : les valeurs de chaque ligne après normalisation doivent être comprises dans l'intervalle [0; 1]... \n",
    "\n",
    "Vous devriez arriver à obtenir ce résultat sans écrire de boucle sur les lignes du tableau, mais en utilisant la vectorisation possible avec les tableaux `ndarray` du module *numpy*."
   ]
  },
  {
   "cell_type": "code",
   "execution_count": 7,
   "id": "5af140b8-39b1-454c-8f3b-af4811ad7774",
   "metadata": {},
   "outputs": [
    {
     "data": {
      "text/plain": [
       "(356, 50)"
      ]
     },
     "execution_count": 7,
     "metadata": {},
     "output_type": "execute_result"
    }
   ],
   "source": [
    "data.shape"
   ]
  },
  {
   "cell_type": "code",
   "execution_count": 8,
   "id": "fab26c12-74db-436f-a0d1-5173082a55d5",
   "metadata": {},
   "outputs": [
    {
     "data": {
      "text/plain": [
       "array([6.65773857e+02, 7.76926771e+02, 9.01715406e+02, 3.16359987e+02,\n",
       "       4.54801056e+02, 1.58164593e+00, 1.71039274e+00, 2.44883928e+05,\n",
       "       1.12060826e+01, 2.39241562e+01, 3.15157255e+01, 5.70613725e+00,\n",
       "       1.42556248e+01, 2.25965991e+00, 2.18046092e+00, 2.40515840e+02,\n",
       "       1.73404654e+01, 1.53571740e+01, 7.65412368e+00, 1.27643536e+00,\n",
       "       6.67000000e-01, 6.33000000e-01, 6.40356190e-01, 4.59459697e-02,\n",
       "       1.05731625e+01, 4.38592951e+00, 2.58594148e-03, 8.85911598e+01,\n",
       "       5.10740000e+01, 3.25690000e+01, 4.47553500e+01, 7.14764254e+00,\n",
       "       2.88936058e+01, 7.85243202e+00, 5.20549778e+01, 9.54793155e+00,\n",
       "       1.28384677e+02, 6.05711056e+02, 2.74887212e+00, 3.45725083e+00,\n",
       "       1.70195724e+01, 1.48686958e+00, 2.22512623e+00, 9.24896088e+00,\n",
       "       2.85502199e-01, 2.94460771e+00, 2.01135163e+01, 1.97121590e-01,\n",
       "       5.56762630e-01, 6.15654828e+00])"
      ]
     },
     "execution_count": 8,
     "metadata": {},
     "output_type": "execute_result"
    }
   ],
   "source": [
    "# la méthode `ndarray.ptp` renvoie la valeur *peak to peak* selon les diffétents xes d'un tableau:\n",
    "data.ptp(axis=0)"
   ]
  },
  {
   "cell_type": "code",
   "execution_count": 9,
   "id": "523afa68",
   "metadata": {},
   "outputs": [],
   "source": [
    "# On peut normaliser les lignes du tableau en retranchant à chaque ligne sa valeur minimale \n",
    "# et en la divisant par sa valeur *peak to peak*:\n",
    "\n",
    "data = (data - data.min(axis=0))/data.ptp(axis=0)"
   ]
  },
  {
   "cell_type": "markdown",
   "id": "4256203d-db70-4f5c-8998-949e6437a3f1",
   "metadata": {},
   "source": [
    "#### Vérification"
   ]
  },
  {
   "cell_type": "markdown",
   "id": "5de932ee-91d7-46f0-b116-608a4f7e1d12",
   "metadata": {},
   "source": [
    "Les valeurs de chacune des ligne du tableau `data` doivent être comprises entre 0 et 1:"
   ]
  },
  {
   "cell_type": "code",
   "execution_count": 10,
   "id": "d4987745-2c66-4829-8540-be420f3323d6",
   "metadata": {},
   "outputs": [
    {
     "name": "stdout",
     "output_type": "stream",
     "text": [
      "valeurs min des lignes du tableau 'data' normalisé : \n",
      "[0. 0. 0. 0. 0. 0. 0. 0. 0. 0. 0. 0. 0. 0. 0. 0. 0. 0. 0. 0. 0. 0. 0. 0.\n",
      " 0. 0. 0. 0. 0. 0. 0. 0. 0. 0. 0. 0. 0. 0. 0. 0. 0. 0. 0. 0. 0. 0. 0. 0.\n",
      " 0. 0.]\n",
      "valeurs max des lignes du tableau 'data' normalisé : \n",
      "[1. 1. 1. 1. 1. 1. 1. 1. 1. 1. 1. 1. 1. 1. 1. 1. 1. 1. 1. 1. 1. 1. 1. 1.\n",
      " 1. 1. 1. 1. 1. 1. 1. 1. 1. 1. 1. 1. 1. 1. 1. 1. 1. 1. 1. 1. 1. 1. 1. 1.\n",
      " 1. 1.]\n"
     ]
    }
   ],
   "source": [
    "print(f\"valeurs min des lignes du tableau 'data' normalisé : \\n{data.min(axis=0)}\\n\" \n",
    "      f\"valeurs max des lignes du tableau 'data' normalisé : \\n{data.max(axis=0)}\")"
   ]
  },
  {
   "cell_type": "markdown",
   "id": "1349e832",
   "metadata": {
    "tags": []
   },
   "source": [
    "## 1.2 $-$ Découper les données en un jeu d'entraînement et un jeu de test"
   ]
  },
  {
   "cell_type": "markdown",
   "id": "b9625231-8cec-4b60-92b8-6999f2c9212d",
   "metadata": {
    "tags": []
   },
   "source": [
    "Avec l'aide de la page [sklearn.model_selection.train_test_split.html](https://scikit-learn.org/stable/modules/generated/sklearn.model_selection.train_test_split.html) utiliser la fonction `train_test_split` pour découper le tableau `data` en deux jeux de données labellisées :\n",
    "- `data_train` et `label_train` $\\leadsto$ données et labels d'entraînement,\n",
    "- `data_val` et `label_val`  $\\leadsto$  donnnées et labels de validation.<br>\n",
    "On pourra par exemple regrouper 20% des données et labels pour le jeu de validation.\n",
    "\n",
    "Il est important de passer à `train_test_split` les arguments :\n",
    "- `stratify=label`, afin de répartir équitablement toutes les classes sur les deux jeux de données,\n",
    "- `shuffle=True`, pour mélanger les données,\n",
    "- `random_state=SEED`, pour obtenir un mélange aléatoire des données qui soit reproductible...\n"
   ]
  },
  {
   "cell_type": "code",
   "execution_count": 11,
   "id": "41ddc66d",
   "metadata": {},
   "outputs": [],
   "source": [
    "from sklearn.model_selection import train_test_split\n",
    "\n",
    "data_train, data_val, label_train, label_val = train_test_split(data, label, \n",
    "                                                                stratify=label, \n",
    "                                                                test_size=0.2,        # 20 % test, 80% train \n",
    "                                                                random_state=SEED,    # fixer la graine des génés aléatoires\n",
    "                                                                shuffle=True)         # mélanger aléatoirement les données"
   ]
  },
  {
   "cell_type": "markdown",
   "id": "278c4b03-578f-4ce8-a959-be0543da3616",
   "metadata": {},
   "source": [
    "Vérification des dimensions des tableaux:"
   ]
  },
  {
   "cell_type": "code",
   "execution_count": 12,
   "id": "c1a274c0",
   "metadata": {},
   "outputs": [
    {
     "data": {
      "text/plain": [
       "((284, 50), (72, 50))"
      ]
     },
     "execution_count": 12,
     "metadata": {},
     "output_type": "execute_result"
    }
   ],
   "source": [
    "data_train.shape, data_val.shape"
   ]
  },
  {
   "cell_type": "code",
   "execution_count": 13,
   "id": "5845c25e-026f-4403-9ef3-d4dbf83b39ec",
   "metadata": {},
   "outputs": [
    {
     "data": {
      "text/plain": [
       "((284,), (72,))"
      ]
     },
     "execution_count": 13,
     "metadata": {},
     "output_type": "execute_result"
    }
   ],
   "source": [
    "label_train.shape, label_val.shape"
   ]
  },
  {
   "cell_type": "markdown",
   "id": "fc881ea3-a543-4fc7-b1e8-b8435c4eb1a0",
   "metadata": {},
   "source": [
    "Il est important de savoir expliquer les dimensions des tableaux..."
   ]
  },
  {
   "cell_type": "markdown",
   "id": "b3b4664a",
   "metadata": {},
   "source": [
    "## 1.4 $-$ Créer les labels au format 'one hot'"
   ]
  },
  {
   "cell_type": "markdown",
   "id": "b36678b8-3e47-43c1-ac0c-d71ded9c48a0",
   "metadata": {},
   "source": [
    "Définir `y_train` et `y_val`, les tableaux des labels d'entraînement et de test au format *one hot* : "
   ]
  },
  {
   "cell_type": "code",
   "execution_count": 14,
   "id": "551fd88e",
   "metadata": {},
   "outputs": [],
   "source": [
    "from tensorflow.keras.utils import to_categorical\n",
    "\n",
    "y_train = to_categorical(label_train)\n",
    "y_val   = to_categorical(label_val)"
   ]
  },
  {
   "cell_type": "markdown",
   "id": "84c2755e-1e1a-496c-96e1-25db79999709",
   "metadata": {},
   "source": [
    "Vérifier visuellement les 5 premières valeurs des tableaux `label_train` et `y_train` puis `label_val` et `y_val`:"
   ]
  },
  {
   "cell_type": "code",
   "execution_count": 15,
   "id": "063fa79f-02f3-4d37-aad0-f02966f9aac3",
   "metadata": {},
   "outputs": [
    {
     "data": {
      "text/plain": [
       "(array([1, 0, 0, 1, 1]),\n",
       " array([[0., 1.],\n",
       "        [1., 0.],\n",
       "        [1., 0.],\n",
       "        [0., 1.],\n",
       "        [0., 1.]], dtype=float32))"
      ]
     },
     "execution_count": 15,
     "metadata": {},
     "output_type": "execute_result"
    }
   ],
   "source": [
    "label_train[:5], y_train[:5]"
   ]
  },
  {
   "cell_type": "code",
   "execution_count": 16,
   "id": "a6cd6114-5a34-41dc-8b6f-37078ef3dea6",
   "metadata": {},
   "outputs": [
    {
     "data": {
      "text/plain": [
       "(array([1, 0, 1, 0, 0]),\n",
       " array([[0., 1.],\n",
       "        [1., 0.],\n",
       "        [0., 1.],\n",
       "        [1., 0.],\n",
       "        [1., 0.]], dtype=float32))"
      ]
     },
     "execution_count": 16,
     "metadata": {},
     "output_type": "execute_result"
    }
   ],
   "source": [
    "label_val[:5], y_val[:5]"
   ]
  },
  {
   "cell_type": "markdown",
   "id": "971a5552-f40e-43b2-aedd-b5a0cb6659bd",
   "metadata": {},
   "source": [
    "## 1.5 $-$ Définitions de paramètres utiles\n",
    "\n",
    "En utilisant l'attribut `shape` des tableaux *ad-hoc*, définir les paramètres suivants :"
   ]
  },
  {
   "cell_type": "code",
   "execution_count": 17,
   "id": "335ad8bd",
   "metadata": {},
   "outputs": [],
   "source": [
    "nb_train_set = data_train.shape[0]    # nombre de jeux d'entraînement\n",
    "nb_val_set   = data_val.shape[0]      # nombre de jeux de validation\n",
    "set_size     = data_train.shape[1]    # nombre de réels (float) dans un jeu\n",
    "nb_classe    = 2                      # nombre de classes de matériaux "
   ]
  },
  {
   "cell_type": "markdown",
   "id": "4d068ab7-8762-41c8-abd0-486e7da09d2b",
   "metadata": {},
   "source": [
    "Vérification :"
   ]
  },
  {
   "cell_type": "code",
   "execution_count": 18,
   "id": "2dca4faf",
   "metadata": {},
   "outputs": [
    {
     "name": "stdout",
     "output_type": "stream",
     "text": [
      "284 jeux d'entraînement  et 72 jeux de validation, comprenant 50 scalaires dans chaque jeu\n"
     ]
    }
   ],
   "source": [
    "print(f\"{nb_train_set} jeux d'entraînement  et {nb_val_set} jeux de validation, comprenant {set_size} scalaires dans chaque jeu\")"
   ]
  },
  {
   "cell_type": "markdown",
   "id": "2915786e",
   "metadata": {},
   "source": [
    "# 2 $-$ Construction et entraînement du réseau de neurones dense"
   ]
  },
  {
   "cell_type": "markdown",
   "id": "43bfac9d-b376-478c-afa6-1d19505d6876",
   "metadata": {},
   "source": [
    "## 2.1 $-$ Construction du réseau dense\n",
    "\n",
    "En vous appuyant sur les acquis d'apprentissage de l'auto-formation, contruire le RND `model` conforme aux spécifications :\n",
    "- couche d'entrée compatible avec les dimensions du jeu de connées construit plus haut, nommée `Input`,\n",
    "- couche cachée de 100 neurones, fonction d'activation `relu`, nommée `C1`,\n",
    "- couche de sortie permettant de classifier deux matières percées, nommée `Out`,<br>\n",
    "\n",
    "Compiler le réseau avec les paramètres *ad-hoc* et faire afficher sa structure avec la méthode `summary`."
   ]
  },
  {
   "cell_type": "code",
   "execution_count": 19,
   "id": "3ff61a25",
   "metadata": {},
   "outputs": [
    {
     "name": "stdout",
     "output_type": "stream",
     "text": [
      "Model: \"sequential\"\n",
      "_________________________________________________________________\n",
      " Layer (type)                Output Shape              Param #   \n",
      "=================================================================\n",
      " C1 (Dense)                  (None, 100)               5100      \n",
      "                                                                 \n",
      " Out (Dense)                 (None, 2)                 202       \n",
      "                                                                 \n",
      "=================================================================\n",
      "Total params: 5,302\n",
      "Trainable params: 5,302\n",
      "Non-trainable params: 0\n",
      "_________________________________________________________________\n"
     ]
    }
   ],
   "source": [
    "from tensorflow.keras import Sequential\n",
    "from tensorflow.keras.layers import Dense, Input\n",
    "\n",
    "# set the seed for repetable tenssorflow random sequences:\n",
    "tf.random.set_seed(SEED)\n",
    "\n",
    "model = Sequential()\n",
    "model.add(Input(shape=(set_size,), name='Input'))\n",
    "model.add(Dense(100, activation='relu', name='C1'))\n",
    "model.add(Dense(nb_classe, activation='softmax', name='Out'))\n",
    "model.compile(loss='categorical_crossentropy', optimizer='adam',  metrics=['accuracy'])\n",
    "model.summary()"
   ]
  },
  {
   "cell_type": "markdown",
   "id": "259af877-ed70-47f9-b0b4-8c1379d6f1cf",
   "metadata": {},
   "source": [
    "Affichage graphique de la structure du réseau :"
   ]
  },
  {
   "cell_type": "code",
   "execution_count": 20,
   "id": "6e3913f0",
   "metadata": {},
   "outputs": [
    {
     "data": {
      "image/png": "[encoded data removed]",
      "text/plain": [
       "<IPython.core.display.Image object>"
      ]
     },
     "execution_count": 20,
     "metadata": {},
     "output_type": "execute_result"
    }
   ],
   "source": [
    "tf.keras.utils.plot_model(model, show_shapes=True, show_layer_activations=True)"
   ]
  },
  {
   "cell_type": "markdown",
   "id": "22e90172",
   "metadata": {},
   "source": [
    "## 2.2 $-$ Sauvegarde des poids initiaux du réseau de neurones\n",
    "\n",
    "- Enregistrer les poids du réseau de neurone initial dans le dossier `weights` avec le préfixe `dense_init`.\n",
    "- Faire afficher la liste des fichiers du dossier `weights` qui commencent par `dense_init`."
   ]
  },
  {
   "cell_type": "code",
   "execution_count": 21,
   "id": "7679a7d5",
   "metadata": {},
   "outputs": [
    {
     "name": "stdout",
     "output_type": "stream",
     "text": [
      "weights/dense_init.data-00000-of-00001\n",
      "weights/dense_init.index\n"
     ]
    }
   ],
   "source": [
    "# check that the directory exists and create it if required:\n",
    "if not os.path.isdir(\"weights\"): os.mkdir(\"weights\")\n",
    "\n",
    "# save the network weights:\n",
    "key = 'dense_init'\n",
    "model.save_weights(os.path.join('weights', key))\n",
    "\n",
    "# afficher les fichiers créés:\n",
    "files=[os.path.join(\"weights\",f) for f in os.listdir(\"weights\") if f.startswith(key)]\n",
    "for f in files: print(f)"
   ]
  },
  {
   "cell_type": "markdown",
   "id": "a74d19b8",
   "metadata": {},
   "source": [
    "## 2.3 $-$ Entraînement du réseau de neurones\n",
    "\n",
    "- Recharger les poids initiaux du réseau.\n",
    "- Fixer la graine des génératoires aléatoire de **tensorflow**.\n",
    "- Entraîner le réseau, avec mesure des parformance à chaque époque, en essayant de trouver par essais successifs des valeurs des argumenst `epoch` et `batch_size` qui donnent des courbes `accuracy` et `loss` satisfaisantes..."
   ]
  },
  {
   "cell_type": "code",
   "execution_count": 22,
   "id": "f24346e3",
   "metadata": {},
   "outputs": [
    {
     "name": "stdout",
     "output_type": "stream",
     "text": [
      "Epoch 1/10\n",
      "3/3 [==============================] - 1s 76ms/step - loss: 0.6406 - accuracy: 0.7007 - val_loss: 0.6023 - val_accuracy: 0.7083\n",
      "Epoch 2/10\n",
      "3/3 [==============================] - 0s 12ms/step - loss: 0.5791 - accuracy: 0.8169 - val_loss: 0.5462 - val_accuracy: 0.8611\n",
      "Epoch 3/10\n",
      "3/3 [==============================] - 0s 15ms/step - loss: 0.5243 - accuracy: 0.9085 - val_loss: 0.4931 - val_accuracy: 0.9444\n",
      "Epoch 4/10\n",
      "3/3 [==============================] - 0s 13ms/step - loss: 0.4720 - accuracy: 0.9718 - val_loss: 0.4410 - val_accuracy: 0.9583\n",
      "Epoch 5/10\n",
      "3/3 [==============================] - 0s 13ms/step - loss: 0.4232 - accuracy: 1.0000 - val_loss: 0.3936 - val_accuracy: 0.9861\n",
      "Epoch 6/10\n",
      "3/3 [==============================] - 0s 12ms/step - loss: 0.3784 - accuracy: 1.0000 - val_loss: 0.3524 - val_accuracy: 1.0000\n",
      "Epoch 7/10\n",
      "3/3 [==============================] - 0s 12ms/step - loss: 0.3389 - accuracy: 1.0000 - val_loss: 0.3154 - val_accuracy: 1.0000\n",
      "Epoch 8/10\n",
      "3/3 [==============================] - 0s 14ms/step - loss: 0.3014 - accuracy: 1.0000 - val_loss: 0.2797 - val_accuracy: 1.0000\n",
      "Epoch 9/10\n",
      "3/3 [==============================] - 0s 13ms/step - loss: 0.2674 - accuracy: 1.0000 - val_loss: 0.2472 - val_accuracy: 1.0000\n",
      "Epoch 10/10\n",
      "3/3 [==============================] - 0s 11ms/step - loss: 0.2366 - accuracy: 1.0000 - val_loss: 0.2184 - val_accuracy: 1.0000\n",
      "Durée entraînement : 0.87 secondes\n"
     ]
    }
   ],
   "source": [
    "from time import time\n",
    "t0 = time()\n",
    "\n",
    "# reload the initial state of the NN to get repetable results:\n",
    "key = 'dense_init'\n",
    "model.load_weights(os.path.join('weights', key))\n",
    "\n",
    "# set the seed for repetable tenssorflow random sequences:\n",
    "tf.random.set_seed(SEED)\n",
    "\n",
    "# train the network\n",
    "hist = model.fit(data_train, y_train,\n",
    "                 validation_data=(data_val, y_val), \n",
    "                 epochs=10, \n",
    "                 batch_size=128)\n",
    "temps_calcul = time() - t0\n",
    "print(f\"Durée entraînement : {temps_calcul:.2f} secondes\")"
   ]
  },
  {
   "cell_type": "markdown",
   "id": "31f9fd5d-bb4c-4c07-b88a-6e2daaa52fec",
   "metadata": {},
   "source": [
    "### Affichage des courbes *accuracy* et *loss* :"
   ]
  },
  {
   "cell_type": "code",
   "execution_count": 23,
   "id": "9d0664ac",
   "metadata": {},
   "outputs": [
    {
     "data": {
      "image/png": "[encoded data removed]",
      "text/plain": [
       "<Figure size 1080x360 with 2 Axes>"
      ]
     },
     "metadata": {
      "needs_background": "light"
     },
     "output_type": "display_data"
    }
   ],
   "source": [
    "from utils.tools import plot_loss_accuracy\n",
    "plot_loss_accuracy(hist)"
   ]
  },
  {
   "cell_type": "markdown",
   "id": "8509af8d",
   "metadata": {},
   "source": [
    "### Sauvegarde des poids du réseau entraîné :\n",
    "\n",
    "- Enregistrer les poids du réseau de neurone initial dans le dossier `models` avec le préfixe `trained`.\n",
    "- Faire afficher la liste des fichiers du dossier `weights` qui commencent par `trained`."
   ]
  },
  {
   "cell_type": "code",
   "execution_count": 24,
   "id": "8cb05bf7",
   "metadata": {},
   "outputs": [
    {
     "name": "stdout",
     "output_type": "stream",
     "text": [
      "weight files in directory 'models':\n",
      "\t trained.data-00000-of-00001\n",
      "\t trained.index\n"
     ]
    }
   ],
   "source": [
    "dir_name = \"models\"      # name of the directory where to save files \n",
    "if not os.path.exists(dir_name): os.mkdir(dir_name)\n",
    "\n",
    "key = 'trained'\n",
    "model.save_weights(os.path.join(dir_name, key))\n",
    "\n",
    "# print file list:\n",
    "files=[f for f in os.listdir(dir_name) if f.startswith(key)]\n",
    "files.sort()\n",
    "print(f\"weight files in directory '{dir_name}':\")\n",
    "for f in files: print('\\t',f)"
   ]
  },
  {
   "cell_type": "markdown",
   "id": "9ec73c9c",
   "metadata": {},
   "source": [
    "# 3 $-$ Évaluation du réseau entraîné"
   ]
  },
  {
   "cell_type": "markdown",
   "id": "87077d3e",
   "metadata": {},
   "source": [
    "Calculer les inférences du réseau entraîné en lui donnant les données de validation :"
   ]
  },
  {
   "cell_type": "code",
   "execution_count": 25,
   "id": "55581cfa",
   "metadata": {},
   "outputs": [
    {
     "name": "stdout",
     "output_type": "stream",
     "text": [
      "inferences : [1 0 1 0 0 1 0 0 1 1 0 0 1 0 1 0 0 1 1 1 1 1 1 0 0 1 0 0 0 0 1 1 0 1 1 1 0\n",
      " 1 0 0 1 0 0 1 1 1 1 0 1 0 0 1 1 0 0 0 1 0 1 0 1 1 0 0 1 0 0 0 1 1 0 1]\n"
     ]
    }
   ],
   "source": [
    "results = model.predict(data_val)\n",
    "inferences = results.argmax(axis=-1)\n",
    "\n",
    "print(f\"inferences : {inferences}\")"
   ]
  },
  {
   "cell_type": "markdown",
   "id": "ae93ac77-a268-49e5-ad9c-dc88af9e1761",
   "metadata": {},
   "source": [
    "Calculer la précison (pourcentage de bonnes réponses) du réseau entraîné :"
   ]
  },
  {
   "cell_type": "code",
   "execution_count": 26,
   "id": "71ed74bd",
   "metadata": {},
   "outputs": [
    {
     "name": "stdout",
     "output_type": "stream",
     "text": [
      "nombre de réponses justes : 72 sur 72 jeux de données\n",
      "précision du réseau entraîné : 100.0 % de réponses justes\n"
     ]
    }
   ],
   "source": [
    "reponse_ok = (inferences == label_val)\n",
    "print(f\"nombre de réponses justes : {reponse_ok.sum()} sur {nb_val_set} jeux de données\")\n",
    "\n",
    "precision = reponse_ok.sum()/nb_val_set*100\n",
    "print(f\"précision du réseau entraîné : {precision} % de réponses justes\")"
   ]
  },
  {
   "cell_type": "markdown",
   "id": "f8608e64-2aaa-49dd-960c-df97a710c867",
   "metadata": {},
   "source": [
    "Faire afficher la matrice de confusion, avec les labels écrits explicitement :"
   ]
  },
  {
   "cell_type": "code",
   "execution_count": 27,
   "id": "00af8955",
   "metadata": {},
   "outputs": [
    {
     "data": {
      "image/png": "[encoded data removed]",
      "text/plain": [
       "<Figure size 432x432 with 1 Axes>"
      ]
     },
     "metadata": {
      "needs_background": "light"
     },
     "output_type": "display_data"
    }
   ],
   "source": [
    "from sklearn.metrics import confusion_matrix, ConfusionMatrixDisplay\n",
    "fig = plt.figure(figsize=(6,6))\n",
    "axis = plt.axes()\n",
    "ConfusionMatrixDisplay.from_predictions(label_val, inferences, \n",
    "                                        ax=axis,\n",
    "                                        display_labels=['Al','CFRP'], \n",
    "                                        xticks_rotation='vertical',\n",
    "                                        colorbar=False);"
   ]
  },
  {
   "cell_type": "markdown",
   "id": "fa339aad",
   "metadata": {},
   "source": [
    "# 4 - Entraînement du réseau de neurones avec seulement 1 indicateur à la fois prami les 50"
   ]
  },
  {
   "cell_type": "markdown",
   "id": "54b0f9c2-ebcd-4b59-bbd1-07f0ab340dad",
   "metadata": {},
   "source": [
    "## 4.1 $-$ Construction du réseau de neurones pour 1 indicateur en entrée :\n",
    "\n",
    "Définir le RND `model_1` identique au RND `model` sauf pour la couche d'entrée qui sera dimensionnée à `1`, compiler le réseau et faire afficher sa structure :"
   ]
  },
  {
   "cell_type": "code",
   "execution_count": 28,
   "id": "5c9e53e9",
   "metadata": {},
   "outputs": [
    {
     "name": "stdout",
     "output_type": "stream",
     "text": [
      "Model: \"sequential_1\"\n",
      "_________________________________________________________________\n",
      " Layer (type)                Output Shape              Param #   \n",
      "=================================================================\n",
      " C1 (Dense)                  (None, 100)               200       \n",
      "                                                                 \n",
      " Out (Dense)                 (None, 2)                 202       \n",
      "                                                                 \n",
      "=================================================================\n",
      "Total params: 402\n",
      "Trainable params: 402\n",
      "Non-trainable params: 0\n",
      "_________________________________________________________________\n"
     ]
    }
   ],
   "source": [
    "from tensorflow.keras.models import Sequential\n",
    "from tensorflow.keras.layers import Dense, Input\n",
    "\n",
    "nb_train_set = data_train.shape[0]    # number of training sets\n",
    "nb_val_set   = data_val.shape[0]      # number of validation sets \n",
    "set_size     = 1                      # number of scalars in a set \n",
    "nb_classe    = 2                      # number of classes (material1, material2)\n",
    "\n",
    "tf.random.set_seed(SEED)\n",
    "\n",
    "# les 5 lignes pour construire le réseau de neurones:\n",
    "model_1 = Sequential()\n",
    "model_1.add(Input(shape=(set_size,), name='Input'))\n",
    "model_1.add(Dense(100, activation='relu', name='C1'))\n",
    "model_1.add(Dense(nb_classe, activation='softmax', name='Out'))\n",
    "model_1.compile(loss='categorical_crossentropy', optimizer='adam',  metrics=['accuracy'])\n",
    "\n",
    "model_1.summary()    "
   ]
  },
  {
   "cell_type": "markdown",
   "id": "35f2a10a-6465-405d-bd5e-3e7c515c2c6a",
   "metadata": {},
   "source": [
    "Affichage graphique de la structure du réseau :"
   ]
  },
  {
   "cell_type": "code",
   "execution_count": 29,
   "id": "e1ec26ed",
   "metadata": {},
   "outputs": [
    {
     "data": {
      "image/png": "[encoded data removed]",
      "text/plain": [
       "<IPython.core.display.Image object>"
      ]
     },
     "execution_count": 29,
     "metadata": {},
     "output_type": "execute_result"
    }
   ],
   "source": [
    "tf.keras.utils.plot_model(model_1, show_shapes=True, show_layer_activations=True)"
   ]
  },
  {
   "cell_type": "markdown",
   "id": "e8197c2f-0732-4097-91f9-1358a1f7e916",
   "metadata": {},
   "source": [
    "### Sauvegarde des poids initiaux du réseau de neurones\n",
    "\n",
    "- Enregistrer les poids du réseau de neurone initial dans le dossier `weights` avec le préfixe `dense_1_init`.\n",
    "- Faire afficher la liste des fichiers du dossier `weights` qui commencent par `dense_1_init`."
   ]
  },
  {
   "cell_type": "code",
   "execution_count": 30,
   "id": "aaef88a2",
   "metadata": {},
   "outputs": [
    {
     "name": "stdout",
     "output_type": "stream",
     "text": [
      "weights/dense_1_init.data-00000-of-00001\n",
      "weights/dense_1_init.index\n"
     ]
    }
   ],
   "source": [
    "# check that the directory exists and create it if required:\n",
    "if not os.path.isdir(\"weights\"): os.mkdir(\"weights\")\n",
    "\n",
    "# save the network weights:\n",
    "key = 'dense_1_init'\n",
    "model_1.save_weights(os.path.join('weights', key))\n",
    "\n",
    "# afficher les fichiers créés:\n",
    "files=[os.path.join(\"weights\",f) for f in os.listdir(\"weights\") if f.startswith(key)]\n",
    "for f in files: print(f)"
   ]
  },
  {
   "cell_type": "markdown",
   "id": "c751f2f4",
   "metadata": {},
   "source": [
    "## 4.2 $-$ Entraînement du réseau avec chacun des 50 indicateurs pris séparément\n",
    "\n",
    "À cette étape du problème, l'idée est d'entraîner le RND non plus avec la globalité des 50 indicateurs $\\times$ 236 données, mais de considérer les indicateurs un par un, pour voir quelle est la précision du réseau entraîné avec les données de chaque indicateur pris séparément...\n",
    "\n",
    "Construire une boucle réalisant 50 itérations, et à chaque itération `i` :\n",
    "- extraire les données d'entraînement et de validation pour l'indicateur de rang `i`,\n",
    "- charger les poids initiaux du RND `model_1`,\n",
    "- fixer la graine des générateurs aléatoires de **tensorflow**,\n",
    "- entraîner le réseau, avec mesure des performance à chaque époque, en conservant les valeurs des arguments `epoch` et `batch_size` précédemment utilisées,\n",
    "- calculer les inférences scalaires du réseau entrainé pour les données de validation, en déduire la précision du préseau entraîné avec l'indicateur de rang `i`,\n",
    "- stocker dans la liste `accuracy` la précision du réseau entraîné."
   ]
  },
  {
   "cell_type": "code",
   "execution_count": 31,
   "id": "9457ff2d",
   "metadata": {},
   "outputs": [
    {
     "name": "stdout",
     "output_type": "stream",
     "text": [
      " 49\n",
      "50 entraînement en 22 secondes\n"
     ]
    }
   ],
   "source": [
    "from time import time\n",
    "\n",
    "accuracy = []\n",
    "\n",
    "t0 = time()\n",
    "for i in range(50):\n",
    "    \n",
    "    # take the indicator and the label of rank <i>:\n",
    "    data_train_1 = data_train[:,i]\n",
    "    data_val_1   = data_val[:,i]\n",
    "\n",
    "    # reload the initial NN state:\n",
    "    key = 'dense_1_init'\n",
    "    model_1.load_weights(os.path.join('weights', key))\n",
    "\n",
    "    tf.random.set_seed(SEED)\n",
    "    \n",
    "    # train the NN:\n",
    "    print(f\"\\r\",i, end=\"\")\n",
    "    hist = model_1.fit(data_train_1, y_train,\n",
    "                       validation_data=(data_val_1, y_val), \n",
    "                       epochs=10, \n",
    "                       batch_size=128,\n",
    "                       verbose=0)\n",
    "    \n",
    "    # evaluate the NN:\n",
    "    inf_1 = model_1.predict(data_val_1).argmax(axis=-1)\n",
    "    ok = (inf_1 == label_val)\n",
    "    ac = ok.sum()/nb_val_set*100\n",
    "    accuracy.append(ac)\n",
    "\n",
    "print(f\"\\n50 entraînement en {(time()-t0):.0f} secondes\")    \n",
    "accuracy = np.array(accuracy)"
   ]
  },
  {
   "cell_type": "markdown",
   "id": "613dd8da",
   "metadata": {},
   "source": [
    "## 4.3 $-$ Recherche des indicateurs les plus pertinents pour l'entraînement du RND \n",
    "\n",
    "L'allure de la courbe précédente suggère que certains indicateurs n'offrent aucune pertinence pour la classification du matériau percé (précision égale à 50 % $\\leadsto$ la même que si on classait les deux matériaux au hasard...), alors que certains indicateurs à eux seuls conduisent à des précisions de classification supérieures à 80%...\n",
    "\n",
    "Faire afficher les labels des indicateurs donnant un réseau entraîné dont la précision est meilleure que 70% :"
   ]
  },
  {
   "cell_type": "code",
   "execution_count": 32,
   "id": "1c96413e-4a23-4c32-ab8b-8ed4286940c8",
   "metadata": {},
   "outputs": [
    {
     "data": {
      "image/png": "[encoded data removed]",
      "text/plain": [
       "<Figure size 1080x360 with 1 Axes>"
      ]
     },
     "metadata": {
      "needs_background": "light"
     },
     "output_type": "display_data"
    }
   ],
   "source": [
    "x = list(range(50))\n",
    "labels = list(range(50))\n",
    "fig, ax = plt.subplots(figsize=(15,5))\n",
    "\n",
    "width=1\n",
    "ax.bar(x, accuracy, width=width, edgecolor=\"white\", linewidth=0.5)\n",
    "ax.set_ylabel('Accuracy [%]')\n",
    "ax.set_xlabel('indicator rank')\n",
    "ax.set_title('NN accuracy versus indicator', fontsize=16)\n",
    "ax.set_xticks(x, labels)\n",
    "ax.set_xlim(0-width/2, 50-width/2)\n",
    "ax.set_ylim(0,100)\n",
    "ax.grid(axis='y')\n",
    "plt.show()"
   ]
  },
  {
   "cell_type": "markdown",
   "id": "e341cd2d",
   "metadata": {},
   "source": [
    "## 4.3 $-$ Recherche des indicateurs les plus pertinents pour l'entraînement du RND \n",
    "\n",
    "L'allure de la courbe précédente suggère que certains indicateurs n'offrent aucune pertinence pour la classification du matériau percé (précision égale à 50 % $\\leadsto$ la même que si on classait les deux matériaux au hasard...), alors que certains indicateurs à eux seuls conduisent à des précision de classification supérieure à 80%...\n",
    "\n",
    "Faire afficher les labels des indicateurs donnant un réseau entraîné dont al précision est supérieure ou égale à 70% :"
   ]
  },
  {
   "cell_type": "code",
   "execution_count": 33,
   "id": "de19febf",
   "metadata": {},
   "outputs": [
    {
     "name": "stdout",
     "output_type": "stream",
     "text": [
      "74% avec l'indicateur 'min Itorque', rang 29\n",
      "78% avec l'indicateur 'varITorque', rang 34\n",
      "99% avec l'indicateur 'AmpFz_passage dents', rang 36\n",
      "76% avec l'indicateur 'AmpMz_passage dents', rang 39\n",
      "94% avec l'indicateur 'AmpVzpiece_passage dents', rang 45\n",
      "79% avec l'indicateur 'AmpVypiece_passage dents', rang 48\n"
     ]
    }
   ],
   "source": [
    "labels = np.array(header[15:-3])\n",
    "accuracy = np.array(accuracy)\n",
    "ranks = np.where(accuracy >= 70)[0]\n",
    "for acc, indicator, rank in zip(accuracy[ranks], labels[ranks], ranks):\n",
    "    print(f\"{acc:.0f}% avec l'indicateur '{indicator}', rang {rank}\")"
   ]
  },
  {
   "cell_type": "markdown",
   "id": "b8d8f211",
   "metadata": {},
   "source": [
    "## 4.4 $-$ Pertinence des indicateurs liés aux capeturs électriques\n",
    "\n",
    "Parmi les 50 indicateurs, ceux dont le label commence par `'Amp'` correspondent à des caractéristiques calculées avec des données temporelles brutes de capteurs électriques : ces indicateurs sont intéressants, car les bancs de perçage sont équipés nativement de ce type de capteurs.\n",
    "\n",
    "Construire la liste `indic_elec` des tuples `(rang, label)` pour les indicateurs dont le label commence par `'Amp'` :"
   ]
  },
  {
   "cell_type": "code",
   "execution_count": 34,
   "id": "67b1b28c",
   "metadata": {},
   "outputs": [
    {
     "data": {
      "text/plain": [
       "[(35, 'AmpFz_Frot'),\n",
       " (36, 'AmpFz_passage dents'),\n",
       " (37, 'AmpFz_Fvib'),\n",
       " (38, 'AmpMz_Frot'),\n",
       " (39, 'AmpMz_passage dents'),\n",
       " (40, 'AmpMz_Fvib'),\n",
       " (41, 'AmpVzUPA_Frot'),\n",
       " (42, 'AmpVzUPA_passage dents'),\n",
       " (43, 'AmpVzUPA_Fvib'),\n",
       " (44, 'AmpVzpiece_Frot'),\n",
       " (45, 'AmpVzpiece_passage dents'),\n",
       " (46, 'AmpVzpiece_Fvib'),\n",
       " (47, 'AmpVypiece_Frot'),\n",
       " (48, 'AmpVypiece_passage dents'),\n",
       " (49, 'AmpVypiece_Fvib')]"
      ]
     },
     "execution_count": 34,
     "metadata": {},
     "output_type": "execute_result"
    }
   ],
   "source": [
    "indic_elec = [(i, name) for i, name in enumerate(header[15:-3]) if name.startswith('Amp')]\n",
    "indic_elec"
   ]
  },
  {
   "cell_type": "markdown",
   "id": "80e33fa2-9a36-49f9-8add-bf8ca1e73030",
   "metadata": {},
   "source": [
    "### Refaire les mêmes calculs qu'en 4.2 en utilisant la liste `indic_elec`..."
   ]
  },
  {
   "cell_type": "code",
   "execution_count": 35,
   "id": "c44aaebe",
   "metadata": {},
   "outputs": [
    {
     "name": "stdout",
     "output_type": "stream",
     "text": [
      "35 36 37 38 39 40 41 42 43 44 45 46 47 48 49 \n",
      "15 entraînement en 7 secondes\n"
     ]
    }
   ],
   "source": [
    "from time import time\n",
    "\n",
    "accuracy = []\n",
    "\n",
    "t0 = time()\n",
    "for n, (i, name) in enumerate(indic_elec):\n",
    "    \n",
    "    # take the indicator and the label of rank <i>:\n",
    "    data_train_1 = data_train[:,i]\n",
    "    data_val_1   = data_val[:,i]\n",
    "\n",
    "    # reload the initial NN state:\n",
    "    key = 'dense_1_init'\n",
    "    model_1.load_weights(os.path.join('weights', key))\n",
    "\n",
    "    tf.random.set_seed(SEED)\n",
    "\n",
    "    # train the NN:\n",
    "    print(f\"{i} \", end=\"\")\n",
    "    hist = model_1.fit(data_train_1, y_train,\n",
    "                       validation_data=(data_val_1, y_val), \n",
    "                       epochs=10, \n",
    "                       batch_size=128,\n",
    "                       verbose=0)\n",
    "    \n",
    "    # evaluate the NN:\n",
    "    inf_elec = model_1.predict(data_val_1).argmax(axis=-1)\n",
    "    ok = (inf_elec == label_val)\n",
    "    ac = ok.sum()/nb_val_set*100\n",
    "    accuracy.append(ac)\n",
    "\n",
    "print(f\"\\n{n+1} entraînement en {(time()-t0):.0f} secondes\")    \n",
    "accuracy = np.array(accuracy)"
   ]
  },
  {
   "cell_type": "code",
   "execution_count": 36,
   "id": "b8330188",
   "metadata": {},
   "outputs": [
    {
     "data": {
      "image/png": "[encoded data removed]",
      "text/plain": [
       "<Figure size 576x432 with 1 Axes>"
      ]
     },
     "metadata": {
      "needs_background": "light"
     },
     "output_type": "display_data"
    }
   ],
   "source": [
    "x = list(range(len(indic_elec)))\n",
    "labels = [rank_label[1] for rank_label in indic_elec]\n",
    "fig, ax = plt.subplots(figsize=(8,6))\n",
    "ax.bar(x, accuracy, width=1,  edgecolor=\"white\", linewidth=0.5)\n",
    "\n",
    "width=1\n",
    "ax.set_ylabel('Accuracy')\n",
    "ax.set_xlabel('indicator')\n",
    "ax.set_title('NN accuracy versus indicator', fontsize=16)\n",
    "ax.set_xticks(x, labels,  rotation='vertical')\n",
    "ax.set_xlim(0-width/2, len(indic_elec)-width/2)\n",
    "ax.set_ylim(0,100)\n",
    "ax.grid(axis='y')\n",
    "plt.show()"
   ]
  },
  {
   "cell_type": "markdown",
   "id": "5d8bd467-010a-4812-901e-23deb835f19f",
   "metadata": {},
   "source": [
    "# 5 $-$ Entraînement final avec les indicateurs de nature életrique les plus pertinents\n",
    "\n",
    "Refaire l'entraînement du RND en ne conservant que les indicateurs électriques donnat une précision meilleure que 80 %, faire afficher la matrice de confusion..."
   ]
  },
  {
   "cell_type": "code",
   "execution_count": 37,
   "id": "162a6435-d80a-4c3e-9459-cb24e338b51f",
   "metadata": {},
   "outputs": [
    {
     "data": {
      "text/plain": [
       "[(35, 'AmpFz_Frot'),\n",
       " (36, 'AmpFz_passage dents'),\n",
       " (37, 'AmpFz_Fvib'),\n",
       " (38, 'AmpMz_Frot'),\n",
       " (39, 'AmpMz_passage dents'),\n",
       " (40, 'AmpMz_Fvib'),\n",
       " (41, 'AmpVzUPA_Frot'),\n",
       " (42, 'AmpVzUPA_passage dents'),\n",
       " (43, 'AmpVzUPA_Fvib'),\n",
       " (44, 'AmpVzpiece_Frot'),\n",
       " (45, 'AmpVzpiece_passage dents'),\n",
       " (46, 'AmpVzpiece_Fvib'),\n",
       " (47, 'AmpVypiece_Frot'),\n",
       " (48, 'AmpVypiece_passage dents'),\n",
       " (49, 'AmpVypiece_Fvib')]"
      ]
     },
     "execution_count": 37,
     "metadata": {},
     "output_type": "execute_result"
    }
   ],
   "source": [
    "indic_elec"
   ]
  },
  {
   "cell_type": "code",
   "execution_count": 38,
   "id": "147207de-24f5-4aa2-bb53-5f15d0f203c2",
   "metadata": {},
   "outputs": [
    {
     "data": {
      "text/plain": [
       "array([ 1, 10])"
      ]
     },
     "execution_count": 38,
     "metadata": {},
     "output_type": "execute_result"
    }
   ],
   "source": [
    "accuracy = np.array(accuracy)\n",
    "ranks = np.where(accuracy >= 80)[0]\n",
    "ranks"
   ]
  },
  {
   "cell_type": "markdown",
   "id": "16a0c8a2-c320-4610-87c0-bf4a9ca6827a",
   "metadata": {},
   "source": [
    "Rangs et lables des indicateurs retenus :"
   ]
  },
  {
   "cell_type": "code",
   "execution_count": 39,
   "id": "efb72730-7355-457c-b29e-1fc1abdf6a6b",
   "metadata": {},
   "outputs": [
    {
     "data": {
      "text/plain": [
       "([36, 45], ['AmpFz_passage dents', 'AmpVzpiece_passage dents'])"
      ]
     },
     "execution_count": 39,
     "metadata": {},
     "output_type": "execute_result"
    }
   ],
   "source": [
    "best_indic_elec   = np.array(indic_elec)[ranks]\n",
    "ranks_indic_elec  = [int(rank_label[0]) for rank_label in best_indic_elec]\n",
    "labels_indic_elec = [rank_label[1] for rank_label in best_indic_elec]\n",
    "ranks_indic_elec, labels_indic_elec"
   ]
  },
  {
   "cell_type": "code",
   "execution_count": 41,
   "id": "a49abe44-15ac-4b30-bc84-884a6e3f5288",
   "metadata": {},
   "outputs": [],
   "source": [
    "# take the indicator and the label of rank <i>:\n",
    "data_train_best = data_train[:,ranks_indic_elec]\n",
    "data_val_best   = data_val[:,ranks_indic_elec]"
   ]
  },
  {
   "cell_type": "code",
   "execution_count": 42,
   "id": "c34fd540-ba81-4ce1-bd6e-ca4695099c64",
   "metadata": {},
   "outputs": [
    {
     "data": {
      "text/plain": [
       "((284, 2), (72, 2))"
      ]
     },
     "execution_count": 42,
     "metadata": {},
     "output_type": "execute_result"
    }
   ],
   "source": [
    "data_train_best.shape, data_val_best.shape"
   ]
  },
  {
   "cell_type": "code",
   "execution_count": 43,
   "id": "32f95475-c409-4981-b7aa-aa4fab0b5b7c",
   "metadata": {},
   "outputs": [
    {
     "name": "stdout",
     "output_type": "stream",
     "text": [
      "Model: \"sequential_2\"\n",
      "_________________________________________________________________\n",
      " Layer (type)                Output Shape              Param #   \n",
      "=================================================================\n",
      " C1 (Dense)                  (None, 100)               300       \n",
      "                                                                 \n",
      " Out (Dense)                 (None, 2)                 202       \n",
      "                                                                 \n",
      "=================================================================\n",
      "Total params: 502\n",
      "Trainable params: 502\n",
      "Non-trainable params: 0\n",
      "_________________________________________________________________\n"
     ]
    }
   ],
   "source": [
    "from tensorflow.keras.models import Sequential\n",
    "from tensorflow.keras.layers import Dense, Input\n",
    "\n",
    "nb_train_set = data_train_best.shape[0]    # number of training sets\n",
    "nb_val_set   = data_val_best.shape[0]      # number of validation sets \n",
    "set_size     = len(best_indic_elec)   # number of scalars in a set \n",
    "nb_classe    = 2                      # number of classes (material1, material2)\n",
    "\n",
    "tf.random.set_seed(SEED)\n",
    "\n",
    "# les 5 lignes pour construire le réseau de neurones:\n",
    "model_2 = Sequential()\n",
    "model_2.add(Input(shape=(set_size,), name='Input'))\n",
    "model_2.add(Dense(100, activation='relu', name='C1'))\n",
    "model_2.add(Dense(nb_classe, activation='softmax', name='Out'))\n",
    "model_2.compile(loss='categorical_crossentropy', optimizer='adam',  metrics=['accuracy'])\n",
    "\n",
    "model_2.summary()    "
   ]
  },
  {
   "cell_type": "code",
   "execution_count": 44,
   "id": "84ac950d-2233-42cb-b2b8-b8416ae9e19e",
   "metadata": {},
   "outputs": [
    {
     "data": {
      "image/png": "[encoded data removed]",
      "text/plain": [
       "<IPython.core.display.Image object>"
      ]
     },
     "execution_count": 44,
     "metadata": {},
     "output_type": "execute_result"
    }
   ],
   "source": [
    "tf.keras.utils.plot_model(model_2, show_shapes=True, show_layer_activations=True)"
   ]
  },
  {
   "cell_type": "code",
   "execution_count": 45,
   "id": "b193ad0f-ea25-4e40-9daa-e89e2b051480",
   "metadata": {},
   "outputs": [
    {
     "name": "stdout",
     "output_type": "stream",
     "text": [
      "Durée entraînement : 0.66 secondes\n"
     ]
    }
   ],
   "source": [
    "tf.random.set_seed(SEED)\n",
    "t0 = time()\n",
    "hist = model_2.fit(data_train_best, y_train,\n",
    "                   validation_data=(data_val_best, y_val), \n",
    "                   epochs=10, \n",
    "                   batch_size=128,\n",
    "                   verbose=0)\n",
    "temps_calcul = time() - t0\n",
    "print(f\"Durée entraînement : {temps_calcul:.2f} secondes\")"
   ]
  },
  {
   "cell_type": "code",
   "execution_count": 46,
   "id": "bed40af3-0329-4552-84f4-1369daf33d09",
   "metadata": {},
   "outputs": [
    {
     "data": {
      "image/png": "[encoded data removed]",
      "text/plain": [
       "<Figure size 432x432 with 1 Axes>"
      ]
     },
     "metadata": {
      "needs_background": "light"
     },
     "output_type": "display_data"
    }
   ],
   "source": [
    "from sklearn.metrics import confusion_matrix, ConfusionMatrixDisplay\n",
    "\n",
    "inf_best = model_2.predict(data_val_best).argmax(axis=-1)\n",
    "\n",
    "fig = plt.figure(figsize=(6,6))\n",
    "axis = plt.axes()\n",
    "ConfusionMatrixDisplay.from_predictions(label_val, inf_best, \n",
    "                                        ax=axis,\n",
    "                                        display_labels=['Al','CFRP'], \n",
    "                                        xticks_rotation='vertical',\n",
    "                                        colorbar=False);"
   ]
  },
  {
   "cell_type": "markdown",
   "id": "c8ee6114-e5c3-48cb-b871-e485447735d3",
   "metadata": {},
   "source": [
    "# 6 $-$ Bilan\n",
    "\n",
    "On peut entraîner un simple réseau de neurones dense à reconnaître le matériau percé avec seulement 2 indicateurs calculés avec les données temporelles de capteurs électriques : <br>`'AmpFz_passage dents'` et `'AmpVzpiece_passage dents'`. \n",
    "\n",
    "L'entraînement avec ces 2 indicateurs dure moins de 1 seconde, la prédiction est quasi-instantannée.\n",
    "\n",
    "Ceci permettrait de concevoir un *smart drilling bench\" où les paramètres de perçage pourraient être ajustés en temps réel en fonction du matériau percé."
   ]
  },
  {
   "cell_type": "code",
   "execution_count": null,
   "id": "0b86c79f-8d88-4d3c-8a0c-0fbd998ab656",
   "metadata": {},
   "outputs": [],
   "source": []
  }
 ],
 "metadata": {
  "kernelspec": {
   "display_name": "Python 3",
   "language": "python",
   "name": "python3"
  },
  "language_info": {
   "codemirror_mode": {
    "name": "ipython",
    "version": 3
   },
   "file_extension": ".py",
   "mimetype": "text/x-python",
   "name": "python",
   "nbconvert_exporter": "python",
   "pygments_lexer": "ipython3",
   "version": "3.8.13"
  },
  "vscode": {
   "interpreter": {
    "hash": "59efb73689a87797e5b559213389ffec211a73836f88e499eb23a412800cba3c"
   }
  }
 },
 "nbformat": 4,
 "nbformat_minor": 5
}
