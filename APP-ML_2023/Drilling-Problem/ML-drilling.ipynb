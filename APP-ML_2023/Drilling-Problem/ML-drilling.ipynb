{
 "cells": [
  {
   "cell_type": "markdown",
   "id": "f9889f30-2354-4546-82f5-ffc64255b0a7",
   "metadata": {},
   "source": [
    "<span style=\"font-size:9pt\">Copyright Jean-Luc CHARLES (Jean-Luc.charles@ensam.eu) 2022 CC BY-SA 4.0</span>"
   ]
  },
  {
   "cell_type": "markdown",
   "id": "f7d1cb26-087f-4678-b786-48abbbe5883c",
   "metadata": {},
   "source": [
    "# Machine learning avec les modules Python tensorflow2/keras :\n",
    "\n",
    "# Entraînement d'un réseau de neurones dense à classifier des données issues d'un banc de perçage\n",
    "\n",
    "version 3.1 du 6 novembre 2022"
   ]
  },
  {
   "cell_type": "markdown",
   "id": "89baf6ab-1560-472f-8445-1b85b1dcfe10",
   "metadata": {},
   "source": [
    "<div class=\"alert alert-block alert-danger\">\n",
    "<span style=\"color:brown;font-family:arial;font-size:normal\"> \n",
    "    Ce notebook doit être chargé dans un processus <b>jupyter notebook</b> lancé dans l'EVP <b><span style=\"color: rgb(80, 151, 102);\">minfo_ml</span></b> créé en suivant la procédure du document <b>Consignes.pdf</b>."
   ]
  },
  {
   "cell_type": "markdown",
   "id": "3d603a2c-e10a-4acd-822b-34fb42471a8d",
   "metadata": {},
   "source": [
    "## Import des modules Python requis :"
   ]
  },
  {
   "cell_type": "code",
   "execution_count": null,
   "id": "62e93dcf",
   "metadata": {},
   "outputs": [],
   "source": [
    "import os, sys\n",
    "\n",
    "# clean tensorflow warnings:\n",
    "os.environ['TF_CPP_MIN_LOG_LEVEL'] = '3'\n",
    "\n",
    "# the seed to make random genetors repetables:\n",
    "SEED = 1234 \n",
    "\n",
    "import tensorflow as tf\n",
    "from tensorflow import keras\n",
    "import numpy as np\n",
    "\n",
    "import matplotlib.pyplot as plt\n",
    "print(f\"Python    : {sys.version.split()[0]}\")\n",
    "print(f\"tensorflow: {tf.__version__} incluant keras {keras.__version__}\")\n",
    "print(f\"numpy     : {np.__version__}\")"
   ]
  },
  {
   "cell_type": "markdown",
   "id": "57edd2f0-ccce-43a8-a596-2ab5404d00b3",
   "metadata": {},
   "source": [
    "### Définition de la fonction `read_csv` qui sera utilisée pour la lecture des fichiers CSV :"
   ]
  },
  {
   "cell_type": "code",
   "execution_count": null,
   "id": "9ac02ae0",
   "metadata": {},
   "outputs": [],
   "source": [
    "def read_csv(file: str, last_param_rank:int, verbose=False) -> (np.ndarray, np.ndarray, list, list):\n",
    "    '''\n",
    "    Lire les fichiers CSV (Comma Separated Values) en 'corrigeant les petits défauts'.\n",
    "    Paramètres: \n",
    "      file:str: nom du fichier à lire\n",
    "      last_param_rank:int: le rang de la dernière colonne paramètre (commençant à 0)\n",
    "      verbole:bool: mode verbeux ou non-verbeux\n",
    "    Renvoie:\n",
    "      data:ndarray: le tableau ndarray des valeurs lues\n",
    "      label:ndarray: le tableau des labels\n",
    "      param:str: la liste des paramètres\n",
    "      header:str: l'entête des colonnes du fichier CSV\n",
    "    '''\n",
    "    param, data, label, header = [], [], [], []\n",
    "    with open(file, encoding='utf8') as f:\n",
    "        for i, line in enumerate(f):\n",
    "            if i == 0: \n",
    "                header=line.strip().split(';')\n",
    "                continue\n",
    "            if verbose: print(i,line)\n",
    "            line = line.strip().replace(',','.').split(';')\n",
    "            list_param = line[:last_param_rank+1]    # from 0 to 'last_param_rank' excluded: the parameters\n",
    "            list_data  = line[last_param_rank+1:-3]  # from rank 'last_param_rank' to the end: the data\n",
    "            list_label = line[-1]                    # last column: the labels\n",
    "            param.append(list_param)\n",
    "            data.append(list_data)\n",
    "            label.append(list_label)\n",
    "    data = np.array(data).astype(float)\n",
    "    label = np.array(label).astype(int)\n",
    "    return data, label, param, header"
   ]
  },
  {
   "cell_type": "markdown",
   "id": "2963de97",
   "metadata": {},
   "source": [
    "# 1 - Lire le fichier CSV et préparer les données labellisées"
   ]
  },
  {
   "cell_type": "markdown",
   "id": "824e9dfe-6726-472c-8e4e-3fb9f0f8dc2c",
   "metadata": {},
   "source": [
    "## 1.1 $-$ Lire le fichier CSV :\n",
    "\n",
    "Ouvrir le fichier CSV `Dataset.csv` avec un tableur ; le fichier est organisé en colonnes :\n",
    "- la colonne `A` (*rank: 0*) donne le numéro de l'essai de perçage,\n",
    "- suivent plusieurs colonnes donnant, dans l'ordre des rangs croisants :\n",
    "    - les **paramètres** de perçage, commençant avec la colonne `B` (*rank: 1*) de label `Longueur percee eprouvetteAlCFRP(mm)`,\n",
    "    - les **indicateurs caractéristiques** (les *features*), commençant avec la colonne de label `KcFz`: ces indicateurs sont calculés avec les données brutes acquises sur le banc de perçage avec les différents capteurs (accéléromètre, capteur de courant...).\n",
    "    \n",
    "Le détails des traitements permettant d'obtenir certains des indicateurs avec les données temporelles brutes fera l'objet de séances de travail dédiées."
   ]
  },
  {
   "cell_type": "markdown",
   "id": "349bad70-1ba6-4398-beba-90c7d1323571",
   "metadata": {},
   "source": [
    "À l'aide de la fonction `read_csv` définie ci-dessus, lire le fichier `Dataset.csv` situé dans le répertoire courant :\n",
    "- en observant le fichier `Dataset.csv` ouvert dans un tableur, trouver la valeur du rang de la dernière colonne des paramètres,\n",
    "- nommer `data`, `label`, `param` et `header` les objets renvoyés par la fonction..."
   ]
  },
  {
   "cell_type": "code",
   "execution_count": null,
   "id": "7847a5e2-6bda-4f9e-8718-b2588a1a160b",
   "metadata": {},
   "outputs": [],
   "source": []
  },
  {
   "cell_type": "markdown",
   "id": "2c0087f8-32f5-4307-b17a-e0ab65bd1f71",
   "metadata": {},
   "source": [
    "Faire afficher l'attribut `shape` des tableaux `data` et `label`:"
   ]
  },
  {
   "cell_type": "code",
   "execution_count": null,
   "id": "7a01d68a-12fb-49e4-91b8-f23017fb343c",
   "metadata": {},
   "outputs": [],
   "source": []
  },
  {
   "cell_type": "markdown",
   "id": "b9d47376-1f2a-48af-923d-5ebd3507825b",
   "metadata": {},
   "source": [
    "Est-ce que ces valeurs paraissent en cohérence avec le contenu du ficher CSV ?<br>\n",
    "Il est important de pouvoir expliquer les valeurs des dimensions des tableaux...."
   ]
  },
  {
   "cell_type": "markdown",
   "id": "7eff76c7-083b-4284-bbec-21818c395740",
   "metadata": {},
   "source": [
    "Vérifier les données de la première ligne du tableau `data` par comparaison visuelle avec le tableur :"
   ]
  },
  {
   "cell_type": "code",
   "execution_count": null,
   "id": "efd69af5",
   "metadata": {},
   "outputs": [],
   "source": []
  },
  {
   "cell_type": "markdown",
   "id": "a0a051d1-d0e8-4e52-91f2-d80761e8fe21",
   "metadata": {},
   "source": [
    "Faire afficher le tableau `label` :"
   ]
  },
  {
   "cell_type": "code",
   "execution_count": null,
   "id": "16245114",
   "metadata": {},
   "outputs": [],
   "source": []
  },
  {
   "cell_type": "markdown",
   "id": "709dfac1",
   "metadata": {},
   "source": [
    "Le tableau `label` montre qu'on a d'abord des essais de perçage avec le matériau `0`, puis avec le matériau `1`<br>\n",
    "=> il faudra faire des tirages aléatoires (*shuffle*) plus loin pour que l'apprentissage du réseau de neurones puisse se faire...."
   ]
  },
  {
   "cell_type": "markdown",
   "id": "bb8e7643",
   "metadata": {},
   "source": [
    "## 1.1 $-$ Normaliser les données\n",
    "\n",
    "Vous devez ici modifier chacune des lignes du tableau `data` pour les normaliser : les valeurs de chaque ligne après normalisation doivent être comprises dans l'intervalle [0; 1]... \n",
    "\n",
    "Vous devriez arriver à obtenir ce résultat sans écrire de boucle sur les lignes du tableau, mais en utilisant la vectorisation possible avec les tableaux `ndarray` du module *numpy*."
   ]
  },
  {
   "cell_type": "code",
   "execution_count": null,
   "id": "5af140b8-39b1-454c-8f3b-af4811ad7774",
   "metadata": {},
   "outputs": [],
   "source": []
  },
  {
   "cell_type": "markdown",
   "id": "4256203d-db70-4f5c-8998-949e6437a3f1",
   "metadata": {},
   "source": [
    "#### Vérification"
   ]
  },
  {
   "cell_type": "markdown",
   "id": "5de932ee-91d7-46f0-b116-608a4f7e1d12",
   "metadata": {},
   "source": [
    "Les valeurs de chacune des ligne du tableau `data` doivent être comprises entre 0 et 1:"
   ]
  },
  {
   "cell_type": "code",
   "execution_count": null,
   "id": "d4987745-2c66-4829-8540-be420f3323d6",
   "metadata": {},
   "outputs": [],
   "source": [
    "print(f\"valeurs min des lignes du tableau 'data' normalisé : \\n{data.min(axis=0)}\\n\" \n",
    "      f\"valeurs max des lignes du tableau 'data' normalisé : \\n{data.max(axis=0)}\")"
   ]
  },
  {
   "cell_type": "markdown",
   "id": "1349e832",
   "metadata": {
    "tags": []
   },
   "source": [
    "## 1.2 $-$ Découper les données en un jeu d'entraînement et un jeu de test"
   ]
  },
  {
   "cell_type": "markdown",
   "id": "b9625231-8cec-4b60-92b8-6999f2c9212d",
   "metadata": {
    "tags": []
   },
   "source": [
    "Avec l'aide de la page [sklearn.model_selection.train_test_split.html](https://scikit-learn.org/stable/modules/generated/sklearn.model_selection.train_test_split.html) utiliser la fonction `train_test_split` pour découper le tableau `data` en deux jeux de données labellisées :\n",
    "- `data_train` et `label_train` $\\leadsto$ données et labels d'entraînement,\n",
    "- `data_val` et `label_val`  $\\leadsto$  donnnées et labels de validation.<br>\n",
    "On pourra par exemple regrouper 20% des données et labels pour le jeu de validation.\n",
    "\n",
    "Il est important de passer à `train_test_split` les arguments :\n",
    "- `stratify=label`, afin de répartir équitablement toutes les classes sur les deux jeux de données,\n",
    "- `shuffle=True`, pour mélanger les données,\n",
    "- `random_state=SEED`, pour obtenir un mélange aléatoire des données qui soit reproductible...\n"
   ]
  },
  {
   "cell_type": "code",
   "execution_count": null,
   "id": "41ddc66d",
   "metadata": {},
   "outputs": [],
   "source": []
  },
  {
   "cell_type": "markdown",
   "id": "278c4b03-578f-4ce8-a959-be0543da3616",
   "metadata": {},
   "source": [
    "Vérification des dimensions des tableaux:"
   ]
  },
  {
   "cell_type": "code",
   "execution_count": null,
   "id": "c1a274c0",
   "metadata": {},
   "outputs": [],
   "source": [
    "data_train.shape, data_val.shape"
   ]
  },
  {
   "cell_type": "code",
   "execution_count": null,
   "id": "5845c25e-026f-4403-9ef3-d4dbf83b39ec",
   "metadata": {},
   "outputs": [],
   "source": [
    "label_train.shape, label_val.shape"
   ]
  },
  {
   "cell_type": "markdown",
   "id": "fc881ea3-a543-4fc7-b1e8-b8435c4eb1a0",
   "metadata": {},
   "source": [
    "Il est important de savoir expliquer les dimensions des tableaux..."
   ]
  },
  {
   "cell_type": "markdown",
   "id": "b3b4664a",
   "metadata": {},
   "source": [
    "## 1.4 $-$ Créer les labels au format 'one hot'"
   ]
  },
  {
   "cell_type": "markdown",
   "id": "b36678b8-3e47-43c1-ac0c-d71ded9c48a0",
   "metadata": {},
   "source": [
    "Définir `y_train` et `y_val`, les tableaux des labels d'entraînement et de test au format *one hot* : "
   ]
  },
  {
   "cell_type": "code",
   "execution_count": null,
   "id": "551fd88e",
   "metadata": {},
   "outputs": [],
   "source": []
  },
  {
   "cell_type": "markdown",
   "id": "84c2755e-1e1a-496c-96e1-25db79999709",
   "metadata": {},
   "source": [
    "Vérifier visuellement les 5 premières valeurs des tableaux `label_train` et `y_train` puis `label_val` et `y_val`:"
   ]
  },
  {
   "cell_type": "code",
   "execution_count": null,
   "id": "063fa79f-02f3-4d37-aad0-f02966f9aac3",
   "metadata": {},
   "outputs": [],
   "source": []
  },
  {
   "cell_type": "markdown",
   "id": "971a5552-f40e-43b2-aedd-b5a0cb6659bd",
   "metadata": {},
   "source": [
    "## 1.5 $-$ Définitions de paramètres utiles\n",
    "\n",
    "En utilisant l'attribut `shape` des tableaux *ad-hoc*, définir les paramètres suivants :"
   ]
  },
  {
   "cell_type": "code",
   "execution_count": null,
   "id": "335ad8bd",
   "metadata": {},
   "outputs": [],
   "source": [
    "nb_train_set = ...    # nombre de jeux d'entraînement\n",
    "nb_val_set   = ...    # nombre de jeux de validation\n",
    "set_size     = ...    # nombre de réels (float) dans un jeu\n",
    "nb_classe    = ...    # nombre de classes de matériaux "
   ]
  },
  {
   "cell_type": "markdown",
   "id": "27ff85c8-6eb1-4f9f-b81c-3f47360449eb",
   "metadata": {},
   "source": [
    "Vérification :"
   ]
  },
  {
   "cell_type": "code",
   "execution_count": null,
   "id": "2dca4faf",
   "metadata": {},
   "outputs": [],
   "source": [
    "print(f\"{nb_train_set} jeux d'entraînement  et {nb_val_set} jeux de validation, comprenant {set_size} scalaires dans chaque jeu\")"
   ]
  },
  {
   "cell_type": "markdown",
   "id": "2915786e",
   "metadata": {},
   "source": [
    "# 2 $-$ Construction et entraînement du réseau de neurones dense"
   ]
  },
  {
   "cell_type": "markdown",
   "id": "43bfac9d-b376-478c-afa6-1d19505d6876",
   "metadata": {},
   "source": [
    "## 2.1 $-$ Construction du réseau dense\n",
    "\n",
    "En vous appuyant sur les acquis d'apprentissage de l'auto-formation, contruire le RND `model` conforme aux spécifications :\n",
    "- couche d'entrée compatible avec les dimensions du jeu de connées construit plus haut, nommée `Input`,\n",
    "- couche cachée de 100 neurones, fonction d'activation `relu`, nommée `C1`,\n",
    "- couche de sortie permettant de classifier deux matières percées, nommée `Out`,<br>\n",
    "\n",
    "Compiler le réseau avec les paramètres *ad-hoc* et faire afficher sa structure avec la méthode `summary`."
   ]
  },
  {
   "cell_type": "code",
   "execution_count": null,
   "id": "3ff61a25",
   "metadata": {},
   "outputs": [],
   "source": [
    "from tensorflow.keras import Sequential\n",
    "from tensorflow.keras.layers import Dense, Input\n",
    "\n",
    "# set the seed for repetable tenssorflow random sequences:\n",
    "tf.random.set_seed(SEED)\n",
    "\n",
    "model = ...\n"
   ]
  },
  {
   "cell_type": "markdown",
   "id": "58f8a9d9-b1d7-4c24-ab99-69601bafefe4",
   "metadata": {},
   "source": [
    "Affichage graphique de la structure du réseau :"
   ]
  },
  {
   "cell_type": "code",
   "execution_count": null,
   "id": "6e3913f0",
   "metadata": {},
   "outputs": [],
   "source": [
    "tf.keras.utils.plot_model(model, show_shapes=True, show_layer_activations=True)"
   ]
  },
  {
   "cell_type": "markdown",
   "id": "22e90172",
   "metadata": {},
   "source": [
    "## 2.2 $-$ Sauvegarde des poids initiaux du réseau de neurones\n",
    "\n",
    "- Enregistrer les poids du réseau de neurone initial dans le dossier `weights` avec le préfixe `dense_init`.\n",
    "- Faire afficher la liste des fichiers du dossier `weights` qui commencent par `dense_init`."
   ]
  },
  {
   "cell_type": "code",
   "execution_count": null,
   "id": "7679a7d5",
   "metadata": {},
   "outputs": [],
   "source": []
  },
  {
   "cell_type": "markdown",
   "id": "a74d19b8",
   "metadata": {},
   "source": [
    "## 2.3 $-$ Entraînement du réseau de neurones\n",
    "\n",
    "- Recharger les poids initiaux du réseau.\n",
    "- Fixer la graine des génératoires aléatoire de **tensorflow**.\n",
    "- Entraîner le réseau, avec mesure des parformance à chaque époque, en essayant de trouver par essais successifs des valeurs des argumenst `epoch` et `batch_size` qui donnent des courbes `accuracy` et `loss` satisfaisantes..."
   ]
  },
  {
   "cell_type": "code",
   "execution_count": null,
   "id": "f24346e3",
   "metadata": {},
   "outputs": [],
   "source": []
  },
  {
   "cell_type": "markdown",
   "id": "31f9fd5d-bb4c-4c07-b88a-6e2daaa52fec",
   "metadata": {},
   "source": [
    "### Affichage des courbes *accuracy* et *loss* :"
   ]
  },
  {
   "cell_type": "code",
   "execution_count": null,
   "id": "9d0664ac",
   "metadata": {},
   "outputs": [],
   "source": []
  },
  {
   "cell_type": "markdown",
   "id": "8509af8d",
   "metadata": {},
   "source": [
    "### Sauvegarde des poids du réseau entraîné :\n",
    "\n",
    "- Enregistrer les poids du réseau de neurone entraîné dans le dossier `models` avec le préfixe `trained`.\n",
    "- Faire afficher la liste des fichiers du dossier `weights` qui commencent par `trained`."
   ]
  },
  {
   "cell_type": "code",
   "execution_count": null,
   "id": "8cb05bf7",
   "metadata": {},
   "outputs": [],
   "source": []
  },
  {
   "cell_type": "markdown",
   "id": "9ec73c9c",
   "metadata": {},
   "source": [
    "# 3 $-$ Évaluation du réseau entraîné"
   ]
  },
  {
   "cell_type": "markdown",
   "id": "87077d3e",
   "metadata": {},
   "source": [
    "Calculer les inférences (scalaires) du réseau entraîné en lui donnant les données de validation :"
   ]
  },
  {
   "cell_type": "code",
   "execution_count": null,
   "id": "55581cfa",
   "metadata": {},
   "outputs": [],
   "source": []
  },
  {
   "cell_type": "markdown",
   "id": "ae93ac77-a268-49e5-ad9c-dc88af9e1761",
   "metadata": {},
   "source": [
    "Calculer la précison (pourcentage de bonnes réponses) du réseau entraîné :"
   ]
  },
  {
   "cell_type": "code",
   "execution_count": null,
   "id": "71ed74bd",
   "metadata": {},
   "outputs": [],
   "source": []
  },
  {
   "cell_type": "markdown",
   "id": "f8608e64-2aaa-49dd-960c-df97a710c867",
   "metadata": {},
   "source": [
    "Faire afficher la matrice de confusion, avec les labels écrits explicitement :"
   ]
  },
  {
   "cell_type": "code",
   "execution_count": null,
   "id": "00af8955",
   "metadata": {},
   "outputs": [],
   "source": []
  },
  {
   "cell_type": "markdown",
   "id": "fa339aad",
   "metadata": {},
   "source": [
    "# 4 - Entraînement du réseau de neurones avec seulement 1 indicateur à la fois prami les 50"
   ]
  },
  {
   "cell_type": "markdown",
   "id": "54b0f9c2-ebcd-4b59-bbd1-07f0ab340dad",
   "metadata": {},
   "source": [
    "## 4.1 $-$ Construction du réseau de neurones pour 1 indicateur en entrée :\n",
    "\n",
    "Définir le RND `model_1` identique au RND `model` sauf pour la couche d'entrée qui sera dimensionnée à `1`, compiler le réseau et faire afficher sa structure :"
   ]
  },
  {
   "cell_type": "code",
   "execution_count": null,
   "id": "5c9e53e9",
   "metadata": {},
   "outputs": [],
   "source": [
    "from tensorflow.keras.models import Sequential\n",
    "from tensorflow.keras.layers import Dense, Input\n",
    "\n",
    "nb_train_set = ...    # number of training sets\n",
    "nb_val_set   = ...    # number of validation sets \n",
    "set_size     = ...    # number of scalars in a set \n",
    "nb_classe    = ...    # number of classes (material1, material2)\n",
    "\n",
    "tf.random.set_seed(SEED)\n",
    "\n",
    "# les 5 lignes pour construire le réseau de neurones:\n",
    "model_1 = ...\n"
   ]
  },
  {
   "cell_type": "markdown",
   "id": "f18f362e-10e9-414a-8d48-82a675127bd9",
   "metadata": {},
   "source": [
    "Affichage graphique de la structure du réseau :"
   ]
  },
  {
   "cell_type": "code",
   "execution_count": null,
   "id": "e1ec26ed",
   "metadata": {},
   "outputs": [],
   "source": [
    "tf.keras.utils.plot_model(model_1, show_shapes=True, show_layer_activations=True)"
   ]
  },
  {
   "cell_type": "markdown",
   "id": "e8197c2f-0732-4097-91f9-1358a1f7e916",
   "metadata": {},
   "source": [
    "### Sauvegarde des poids initiaux du réseau de neurones\n",
    "\n",
    "- Enregistrer les poids du réseau de neurone initial dans le dossier `weights` avec le préfixe `dense_1_init`.\n",
    "- Faire afficher la liste des fichiers du dossier `weights` qui commencent par `dense_1_init`."
   ]
  },
  {
   "cell_type": "code",
   "execution_count": null,
   "id": "aaef88a2",
   "metadata": {},
   "outputs": [],
   "source": []
  },
  {
   "cell_type": "markdown",
   "id": "c751f2f4",
   "metadata": {},
   "source": [
    "## 4.2 $-$ Entraînement du réseau avec chacun des 50 indicateurs pris séparément\n",
    "\n",
    "À cette étape du problème, l'idée est d'entraîner le RND non plus avec la globalité des 50 indicateurs $\\times$ 236 données, mais de considérer les indicateurs un par un, pour voir quelle est la précision du réseau entraîné avec les données de chaque indicateur pris séparément...\n",
    "\n",
    "Construire une boucle réalisant 50 itérations, et à chaque itération `i` :\n",
    "- extraire les données d'entraînement et de validation pour l'indicateur de rang `i`,\n",
    "- charger les poids initiaux du RND `model_1`,\n",
    "- fixer la graine des générateurs aléatoires de **tensorflow**,\n",
    "- entraîner le réseau, avec mesure des performance à chaque époque, en conservant les valeurs des arguments `epoch` et `batch_size` précédemment utilisées,\n",
    "- calculer les inférences scalaires du réseau entrainé pour les données de validation, en déduire la précision du préseau entraîné avec l'indicateur de rang `i`,\n",
    "- stocker dans la liste `accuracy` la précision du réseau entraîné."
   ]
  },
  {
   "cell_type": "code",
   "execution_count": null,
   "id": "9457ff2d",
   "metadata": {},
   "outputs": [],
   "source": []
  },
  {
   "cell_type": "markdown",
   "id": "613dd8da",
   "metadata": {},
   "source": [
    "### Faire afficher la précision du réseau entraîné avec chacun des 50 indicateurs\n",
    "\n",
    "À l'aide de la page [sphx-glr-plot-types-basic-bar-py](https://matplotlib.org/stable/plot_types/basic/bar.html#sphx-glr-plot-types-basic-bar-py) tracer un \"diagramme en bâtons\" avec la fonction `bar` du module **matplotlib**, montrant :\n",
    "- en abcisses, le rang des indicateurs de 0 à 49,\n",
    "- en ordonnées, la précision en % du réseau entrainé avec chacun des 50 indicateurs...\n",
    "\n",
    "*indications* : on pourra passer l'argument `figsize=(15,5)` à l'appel de la fonction `plt.subplots` pour régler la taille de la figure..."
   ]
  },
  {
   "cell_type": "code",
   "execution_count": null,
   "id": "1c96413e-4a23-4c32-ab8b-8ed4286940c8",
   "metadata": {},
   "outputs": [],
   "source": []
  },
  {
   "cell_type": "markdown",
   "id": "e341cd2d",
   "metadata": {},
   "source": [
    "## 4.3 $-$ Recherche des indicateurs les plus pertinents pour l'entraînement du RND \n",
    "\n",
    "L'allure de la courbe précédente suggère que certains indicateurs n'offrent aucune pertinence pour la classification du matériau percé (précision égale à 50 % $\\leadsto$ la même que si on classait les deux matériaux au hasard...), alors que certains indicateurs à eux seuls conduisent à des précisions de classification supérieures à 80%...\n",
    "\n",
    "Faire afficher les labels des indicateurs donnant un réseau entraîné dont la précision est meilleure que 70% :"
   ]
  },
  {
   "cell_type": "code",
   "execution_count": null,
   "id": "de19febf",
   "metadata": {},
   "outputs": [],
   "source": []
  },
  {
   "cell_type": "markdown",
   "id": "b8d8f211",
   "metadata": {},
   "source": [
    "## 4.4 $-$ Pertinence des indicateurs liés aux capeturs électriques\n",
    "\n",
    "Parmi les 50 indicateurs, ceux dont le label commence par `'Amp'` correspondent à des caractéristiques calculées avec des données temporelles brutes de capteurs électriques : ces indicateurs sont intéressants, car les bancs de perçage sont équipés nativement de ce type de capteurs.\n",
    "\n",
    "Construire la liste `indic_elec` des tuples `(rang, label)` pour les indicateurs dont le label commence par `'Amp'` :"
   ]
  },
  {
   "cell_type": "code",
   "execution_count": null,
   "id": "67b1b28c",
   "metadata": {},
   "outputs": [],
   "source": []
  },
  {
   "cell_type": "markdown",
   "id": "80e33fa2-9a36-49f9-8add-bf8ca1e73030",
   "metadata": {},
   "source": [
    "### Refaire les mêmes calculs qu'en 4.2 en balayant chacun des indicateurs de la liste `indic_elec`..."
   ]
  },
  {
   "cell_type": "code",
   "execution_count": null,
   "id": "c44aaebe",
   "metadata": {},
   "outputs": [],
   "source": []
  },
  {
   "cell_type": "markdown",
   "id": "00024389-a9f3-4ba8-81f0-4685f598cfed",
   "metadata": {},
   "source": [
    "# 5 $-$ Entraînement final avec les indicateurs de nature életrique les plus pertinents\n",
    "\n",
    "Refaire l'entraînement du RND en ne conservant que les indicateurs électriques donnat une précision meilleure que 80 %, faire afficher la matrice de confusion..."
   ]
  },
  {
   "cell_type": "markdown",
   "id": "5fb56ceb-a435-434b-84b1-f79add075e4d",
   "metadata": {},
   "source": []
  },
  {
   "cell_type": "markdown",
   "id": "c8ee6114-e5c3-48cb-b871-e485447735d3",
   "metadata": {},
   "source": [
    "# 6 $-$ Bilan\n",
    "\n",
    "Quelles conclusions tirez-vous de ces calculs ?\n",
    "\n",
    "Quelles application pourriez-vous envisager ?"
   ]
  },
  {
   "cell_type": "code",
   "execution_count": null,
   "id": "d6b3f71b-9394-43b9-b067-6c4b5ccc4885",
   "metadata": {},
   "outputs": [],
   "source": []
  }
 ],
 "metadata": {
  "kernelspec": {
   "display_name": "Python 3",
   "language": "python",
   "name": "python3"
  },
  "language_info": {
   "codemirror_mode": {
    "name": "ipython",
    "version": 3
   },
   "file_extension": ".py",
   "mimetype": "text/x-python",
   "name": "python",
   "nbconvert_exporter": "python",
   "pygments_lexer": "ipython3",
   "version": "3.8.13"
  },
  "vscode": {
   "interpreter": {
    "hash": "59efb73689a87797e5b559213389ffec211a73836f88e499eb23a412800cba3c"
   }
  }
 },
 "nbformat": 4,
 "nbformat_minor": 5
}
