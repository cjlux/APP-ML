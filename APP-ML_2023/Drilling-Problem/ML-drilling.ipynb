{
 "cells": [
  {
   "cell_type": "markdown",
   "id": "f9889f30-2354-4546-82f5-ffc64255b0a7",
   "metadata": {},
   "source": [
    "<span style=\"font-size:10pt\">Copyright Jean-Luc CHARLES $-$ 2022/11 $-$ CC BY-SA 4.0 $-$ </span>\n",
    "<img src=\"img/cc_icon_white_x2.png\" width=\"20\" style=\"vertical-align: middle;\">\n",
    "<img src=\"img/attribution_icon_white_x2.png\" width=\"20\" style=\"vertical-align: middle;\">\n",
    "<img src=\"img/sa_white_x2.png\" width=\"20\" style=\"vertical-align: middle;\">"
   ]
  },
  {
   "cell_type": "markdown",
   "id": "f7d1cb26-087f-4678-b786-48abbbe5883c",
   "metadata": {},
   "source": [
    "# Machine learning avec les modules Python tensorflow2/keras :\n",
    "\n",
    "# Entraînement d'un réseau de neurones dense à classifier des données issues d'un banc de perçage\n",
    "\n",
    "version 3.3 du 17 novembre 2022"
   ]
  },
  {
   "cell_type": "markdown",
   "id": "89baf6ab-1560-472f-8445-1b85b1dcfe10",
   "metadata": {},
   "source": [
    "<div class=\"alert alert-block alert-danger\">\n",
    "<span style=\"color:brown;font-family:arial;font-size:normal\"> \n",
    "    Ce notebook doit être chargé dans un processus <b>jupyter notebook</b> lancé dans l'EVP <b><span style=\"color: rgb(80, 151, 102);\">minfo_ml</span></b> créé en suivant la procédure du document <b>Consignes.pdf</b>."
   ]
  },
  {
   "cell_type": "markdown",
   "id": "3d603a2c-e10a-4acd-822b-34fb42471a8d",
   "metadata": {},
   "source": [
    "## Import des modules Python requis :"
   ]
  },
  {
   "cell_type": "code",
   "execution_count": null,
   "id": "62e93dcf",
   "metadata": {},
   "outputs": [],
   "source": [
    "import os, sys\n",
    "\n",
    "# clean tensorflow warnings:\n",
    "os.environ['TF_CPP_MIN_LOG_LEVEL'] = '3'\n",
    "\n",
    "# the seed to make random genetors repetables:\n",
    "SEED = 1234 \n",
    "\n",
    "import tensorflow as tf\n",
    "from tensorflow import keras\n",
    "import numpy as np\n",
    "\n",
    "import matplotlib.pyplot as plt\n",
    "print(f\"Python    : {sys.version.split()[0]}\")\n",
    "print(f\"tensorflow: {tf.__version__} incluant keras {keras.__version__}\")\n",
    "print(f\"numpy     : {np.__version__}\")"
   ]
  },
  {
   "cell_type": "markdown",
   "id": "57edd2f0-ccce-43a8-a596-2ab5404d00b3",
   "metadata": {},
   "source": [
    "### Définition de la fonction `read_csv` qui sera utilisée pour la lecture des fichiers CSV :"
   ]
  },
  {
   "cell_type": "code",
   "execution_count": null,
   "id": "9ac02ae0",
   "metadata": {},
   "outputs": [],
   "source": [
    "def read_csv(file: str, last_param_rank:int, verbose=False) -> (np.ndarray, np.ndarray, list, list):\n",
    "    '''\n",
    "    Lire les fichiers CSV (Comma Separated Values) en 'corrigeant les petits défauts'.\n",
    "    Paramètres: \n",
    "      file:str: nom du fichier à lire\n",
    "      last_param_rank:int: le rang de la dernière colonne paramètre (commençant à 0)\n",
    "      verbole:bool: mode verbeux ou non-verbeux\n",
    "    Renvoie:\n",
    "      data:ndarray: le tableau ndarray des valeurs lues\n",
    "      label:ndarray: le tableau des labels\n",
    "      param:str: la liste des paramètres\n",
    "      header:str: l'entête des colonnes du fichier CSV\n",
    "    '''\n",
    "    param, data, label, header = [], [], [], []\n",
    "    with open(file, encoding='utf8') as f:\n",
    "        for i, line in enumerate(f):\n",
    "            if i == 0: \n",
    "                header=line.strip().split(';')\n",
    "                continue\n",
    "            if verbose: print(i,line)\n",
    "            line = line.strip().replace(',','.').split(';')\n",
    "            list_param = line[:last_param_rank+1]    # from 0 to 'last_param_rank' excluded: the parameters\n",
    "            list_data  = line[last_param_rank+1:-3]  # from rank 'last_param_rank' to the end: the data\n",
    "            list_label = line[-1]                    # last column: the labels\n",
    "            param.append(list_param)\n",
    "            data.append(list_data)\n",
    "            label.append(list_label)\n",
    "    data = np.array(data).astype(float)\n",
    "    label = np.array(label).astype(int)\n",
    "    return data, label, param, header"
   ]
  },
  {
   "cell_type": "markdown",
   "id": "2963de97",
   "metadata": {},
   "source": [
    "# 1 - Lire le fichier CSV et préparer les données labellisées"
   ]
  },
  {
   "cell_type": "markdown",
   "id": "824e9dfe-6726-472c-8e4e-3fb9f0f8dc2c",
   "metadata": {},
   "source": [
    "## 1.1 $-$ Lire le fichier CSV :\n",
    "\n",
    "Ouvrir le fichier CSV `Dataset.csv` avec un tableur ; le fichier est organisé en colonnes :\n",
    "- la colonne `A` (*rank: 0*) donne le numéro de l'essai de perçage,\n",
    "- suivent plusieurs colonnes donnant, dans l'ordre des rangs croisants :\n",
    "    - les **paramètres** de perçage, commençant avec la colonne `B` (*rank: 1*) de label `Longueur percee eprouvetteAlCFRP(mm)`, jusqu'à la colonne `O` (*rank: 14*) de label `Niveau huile`,\n",
    "    - suivent les **indicateurs caractéristiques** (les *features*), commençant avec la colonne de label `KcFz`: ces indicateurs sont calculée avec les données temporelles acquises sur le banc de perçage avec les différents capteurs (capteur de force, accéléromètre, capteur de courant...).\n",
    "    \n",
    "Le détails des traitements permettant d'obtenir certains des indicateurs avec les données temporelles brutes fera l'objet de séances de travail dédiées."
   ]
  },
  {
   "cell_type": "markdown",
   "id": "349bad70-1ba6-4398-beba-90c7d1323571",
   "metadata": {},
   "source": [
    "À l'aide de la fonction `read_csv` définie ci-dessus, lire le fichier `Dataset.csv` situé dans le répertoire courant :\n",
    "- en observant le fichier `Dataset.csv` ouvert dans un tableur, trouver la valeur du rang de la dernière colonne des paramètres,\n",
    "- nommer `data`, `label`, `param` et `header` les objets renvoyés par la fonction..."
   ]
  },
  {
   "cell_type": "code",
   "execution_count": null,
   "id": "7847a5e2-6bda-4f9e-8718-b2588a1a160b",
   "metadata": {},
   "outputs": [],
   "source": []
  },
  {
   "cell_type": "markdown",
   "id": "2c0087f8-32f5-4307-b17a-e0ab65bd1f71",
   "metadata": {},
   "source": [
    "Faire afficher l'attribut `shape` des tableaux `data` et `label`:"
   ]
  },
  {
   "cell_type": "code",
   "execution_count": null,
   "id": "7a01d68a-12fb-49e4-91b8-f23017fb343c",
   "metadata": {},
   "outputs": [],
   "source": []
  },
  {
   "cell_type": "markdown",
   "id": "b9d47376-1f2a-48af-923d-5ebd3507825b",
   "metadata": {},
   "source": [
    "Est-ce que ces valeurs paraissent en cohérence avec le contenu du ficher CSV ?<br>\n",
    "$\\leadsto$ **Il est important de pouvoir expliquer les valeurs des dimensions des tableaux...**"
   ]
  },
  {
   "cell_type": "markdown",
   "id": "7eff76c7-083b-4284-bbec-21818c395740",
   "metadata": {},
   "source": [
    "Vérifier les données de la première ligne du tableau `data` par comparaison visuelle avec le tableur :"
   ]
  },
  {
   "cell_type": "code",
   "execution_count": null,
   "id": "efd69af5",
   "metadata": {},
   "outputs": [],
   "source": []
  },
  {
   "cell_type": "markdown",
   "id": "a0a051d1-d0e8-4e52-91f2-d80761e8fe21",
   "metadata": {},
   "source": [
    "Faire afficher le contenu du tableau `label` :"
   ]
  },
  {
   "cell_type": "code",
   "execution_count": null,
   "id": "16245114",
   "metadata": {},
   "outputs": [],
   "source": []
  },
  {
   "cell_type": "markdown",
   "id": "709dfac1",
   "metadata": {},
   "source": [
    "Le tableau `label` montre qu'on a deux matériaux dans ce dataset :\n",
    "- le matériau `0` est de l'aluminium Al7175,\n",
    "- le matériau `1` est un composite CFRP (*Carbon-fiber-reinforced polymers*).<br>"
   ]
  },
  {
   "cell_type": "markdown",
   "id": "bb8e7643",
   "metadata": {},
   "source": [
    "## 1.1 $-$ Normaliser les données\n",
    "\n",
    "Vous devez ici modifier chacune des lignes du tableau `data` pour les normaliser : les valeurs de chaque ligne après normalisation doivent être comprises dans l'intervalle [0; 1]... \n",
    "\n",
    "Vous devriez arriver à obtenir ce résultat sans écrire de boucle sur les lignes du tableau, mais en utilisant la vectorisation possible avec les tableaux `ndarray` du module *numpy*."
   ]
  },
  {
   "cell_type": "code",
   "execution_count": null,
   "id": "5af140b8-39b1-454c-8f3b-af4811ad7774",
   "metadata": {},
   "outputs": [],
   "source": []
  },
  {
   "cell_type": "markdown",
   "id": "4256203d-db70-4f5c-8998-949e6437a3f1",
   "metadata": {},
   "source": [
    "#### Vérification"
   ]
  },
  {
   "cell_type": "markdown",
   "id": "5de932ee-91d7-46f0-b116-608a4f7e1d12",
   "metadata": {},
   "source": [
    "Les valeurs de chacune des ligne du tableau `data` doivent être comprises entre 0 et 1:"
   ]
  },
  {
   "cell_type": "code",
   "execution_count": null,
   "id": "d4987745-2c66-4829-8540-be420f3323d6",
   "metadata": {},
   "outputs": [],
   "source": [
    "print(f\"valeurs min des lignes du tableau 'data' normalisé : \\n{data.min(axis=0)}\\n\" \n",
    "      f\"valeurs max des lignes du tableau 'data' normalisé : \\n{data.max(axis=0)}\")"
   ]
  },
  {
   "cell_type": "markdown",
   "id": "1349e832",
   "metadata": {
    "tags": []
   },
   "source": [
    "## 1.2 $-$ Découper les données en un jeu d'entraînement et un jeu de test"
   ]
  },
  {
   "cell_type": "markdown",
   "id": "b9625231-8cec-4b60-92b8-6999f2c9212d",
   "metadata": {
    "tags": []
   },
   "source": [
    "Avec l'aide de la page [sklearn.model_selection.train_test_split.html](https://scikit-learn.org/stable/modules/generated/sklearn.model_selection.train_test_split.html) utiliser la fonction `train_test_split` pour découper le tableau `data` en deux jeux de données labellisées :\n",
    "- `data_train` et `label_train` $\\leadsto$ données et labels d'entraînement,\n",
    "- `data_val` et `label_val`  $\\leadsto$  donnnées et labels de validation.<br>\n",
    "On pourra par exemple regrouper 20% des données et labels pour le jeu de validation.\n",
    "\n",
    "Il est important de passer à `train_test_split` les arguments :\n",
    "- `stratify=label`, afin de répartir équitablement toutes les classes sur les deux jeux de données,\n",
    "- `shuffle=True`, pour mélanger les données,\n",
    "- `random_state=SEED`, pour obtenir un mélange aléatoire des données qui soit reproductible...\n"
   ]
  },
  {
   "cell_type": "code",
   "execution_count": null,
   "id": "41ddc66d",
   "metadata": {},
   "outputs": [],
   "source": []
  },
  {
   "cell_type": "markdown",
   "id": "278c4b03-578f-4ce8-a959-be0543da3616",
   "metadata": {},
   "source": [
    "Vérification des dimensions des tableaux:"
   ]
  },
  {
   "cell_type": "code",
   "execution_count": null,
   "id": "c1a274c0",
   "metadata": {},
   "outputs": [],
   "source": [
    "data_train.shape, data_val.shape"
   ]
  },
  {
   "cell_type": "code",
   "execution_count": null,
   "id": "5845c25e-026f-4403-9ef3-d4dbf83b39ec",
   "metadata": {},
   "outputs": [],
   "source": [
    "label_train.shape, label_val.shape"
   ]
  },
  {
   "cell_type": "markdown",
   "id": "fc881ea3-a543-4fc7-b1e8-b8435c4eb1a0",
   "metadata": {},
   "source": [
    "$\\leadsto$ **Il est important de savoir expliquer les valeurs des dimensions des tableaux...**"
   ]
  },
  {
   "cell_type": "markdown",
   "id": "b3b4664a",
   "metadata": {},
   "source": [
    "## 1.4 $-$ Créer les labels au format 'one hot'"
   ]
  },
  {
   "cell_type": "markdown",
   "id": "b36678b8-3e47-43c1-ac0c-d71ded9c48a0",
   "metadata": {},
   "source": [
    "Définir `y_train` et `y_val`, les tableaux des labels d'entraînement et de test au format *one hot* : "
   ]
  },
  {
   "cell_type": "code",
   "execution_count": null,
   "id": "551fd88e",
   "metadata": {},
   "outputs": [],
   "source": []
  },
  {
   "cell_type": "markdown",
   "id": "84c2755e-1e1a-496c-96e1-25db79999709",
   "metadata": {},
   "source": [
    "Vérifier visuellement les 5 premières valeurs des tableaux `label_train` et `y_train` puis `label_val` et `y_val`:"
   ]
  },
  {
   "cell_type": "code",
   "execution_count": null,
   "id": "063fa79f-02f3-4d37-aad0-f02966f9aac3",
   "metadata": {},
   "outputs": [],
   "source": []
  },
  {
   "cell_type": "markdown",
   "id": "971a5552-f40e-43b2-aedd-b5a0cb6659bd",
   "metadata": {},
   "source": [
    "## 1.5 $-$ Définir les paramètres utiles\n",
    "\n",
    "En utilisant les attributs des tableaux *ad-hoc*, définir les paramètres suivants :"
   ]
  },
  {
   "cell_type": "code",
   "execution_count": null,
   "id": "335ad8bd",
   "metadata": {},
   "outputs": [],
   "source": [
    "nb_train_set = ...    # nombre de jeux d'entraînement\n",
    "nb_val_set   = ...    # nombre de jeux de validation\n",
    "set_size     = ...    # nombre de réels (float) dans un jeu\n",
    "nb_classe    = ...    # nombre de classes de matériaux "
   ]
  },
  {
   "cell_type": "markdown",
   "id": "27ff85c8-6eb1-4f9f-b81c-3f47360449eb",
   "metadata": {},
   "source": [
    "Vérification :"
   ]
  },
  {
   "cell_type": "code",
   "execution_count": null,
   "id": "2dca4faf",
   "metadata": {},
   "outputs": [],
   "source": [
    "print(f\"{nb_train_set} jeux d'entraînement  et {nb_val_set} jeux de validation, comprenant {set_size} scalaires dans chaque jeu\")\n",
    "print(f\"{nb_train_set} jeux d'entraînement  et {nb_val_set} jeux de validation, comprenant {set_size} scalaires dans chaque jeu\")\n",
    "print(f\"{nb_classe} classes de matériaux\")"
   ]
  },
  {
   "cell_type": "markdown",
   "id": "2915786e",
   "metadata": {},
   "source": [
    "# 2 $-$ Construire et entraîner le réseau de neurones dense\n",
    "\n",
    "## 2.1 $-$ Construire le du réseau dense\n",
    "\n",
    "En vous appuyant sur les acquis d'apprentissage de l'auto-formation, contruire le RND `model` conforme aux spécifications :\n",
    "- couche d'entrée compatible avec les dimensions du jeu de connées construit plus haut, nommée `Input`,\n",
    "- couche cachée de 100 neurones, fonction d'activation `relu`, nommée `C1`,\n",
    "- couche de sortie permettant de classifier deux matières percées, nommée `Out`,<br>\n",
    "\n",
    "Compiler le réseau avec les paramètres *ad-hoc* et faire afficher sa structure avec la méthode `summary`."
   ]
  },
  {
   "cell_type": "code",
   "execution_count": null,
   "id": "3ff61a25",
   "metadata": {},
   "outputs": [],
   "source": [
    "from tensorflow.keras import Sequential\n",
    "from tensorflow.keras.layers import Dense, Input\n",
    "\n",
    "# set the seed for repetable tenssorflow random sequences:\n",
    "tf.random.set_seed(SEED)\n",
    "\n",
    "model = ...\n"
   ]
  },
  {
   "cell_type": "markdown",
   "id": "58f8a9d9-b1d7-4c24-ab99-69601bafefe4",
   "metadata": {},
   "source": [
    "Affichage graphique de la structure du réseau :"
   ]
  },
  {
   "cell_type": "code",
   "execution_count": null,
   "id": "6e3913f0",
   "metadata": {},
   "outputs": [],
   "source": [
    "tf.keras.utils.plot_model(model, show_shapes=True, show_layer_activations=True)"
   ]
  },
  {
   "cell_type": "markdown",
   "id": "22e90172",
   "metadata": {},
   "source": [
    "## 2.2 $-$ Sauvegarder les poids initiaux du réseau de neurones\n",
    "\n",
    "- Enregistrer les poids du réseau de neurone initial dans le dossier `weights` avec le préfixe `dense_init`.\n",
    "- Afficher la liste des fichiers du dossier `weights` qui commencent par `dense_init`."
   ]
  },
  {
   "cell_type": "code",
   "execution_count": null,
   "id": "7679a7d5",
   "metadata": {},
   "outputs": [],
   "source": []
  },
  {
   "cell_type": "markdown",
   "id": "a74d19b8",
   "metadata": {},
   "source": [
    "## 2.3 $-$ Entraîner le réseau de neurones\n",
    "\n",
    "- Recharger les poids initiaux du réseau.\n",
    "- Fixer la graine des génératoires aléatoire de **tensorflow**.\n",
    "- Entraîner le réseau, avec mesure des performance à chaque époque, en essayant de trouver par essais successifs des valeurs des arguments `epoch` et `batch_size` qui donnent des courbes `val_accuracy` et `val_loss` satisfaisantes.\n",
    "- Afficher les courbes de précisoion et de perte..."
   ]
  },
  {
   "cell_type": "code",
   "execution_count": null,
   "id": "f24346e3",
   "metadata": {},
   "outputs": [],
   "source": []
  },
  {
   "cell_type": "markdown",
   "id": "8509af8d",
   "metadata": {},
   "source": [
    "### Sauvegarder les poids du réseau entraîné :\n",
    "\n",
    "- Enregistrer les poids du réseau pour le meilleur entraînement dans le dossier `models` avec le préfixe `trained`.\n",
    "- Faire afficher la liste des fichiers du dossier `weights` qui commencent par `trained`."
   ]
  },
  {
   "cell_type": "code",
   "execution_count": null,
   "id": "8cb05bf7",
   "metadata": {},
   "outputs": [],
   "source": []
  },
  {
   "cell_type": "markdown",
   "id": "9ec73c9c",
   "metadata": {},
   "source": [
    "# 3 $-$ Évaluer les performances du réseau entraîné"
   ]
  },
  {
   "cell_type": "markdown",
   "id": "87077d3e",
   "metadata": {},
   "source": [
    "Calculer les inférences (scalaires) du réseau entraîné en lui donnant en entrée les données de validation :"
   ]
  },
  {
   "cell_type": "code",
   "execution_count": null,
   "id": "55581cfa",
   "metadata": {},
   "outputs": [],
   "source": []
  },
  {
   "cell_type": "markdown",
   "id": "ae93ac77-a268-49e5-ad9c-dc88af9e1761",
   "metadata": {},
   "source": [
    "Calculer la précison (pourcentage de bonnes réponses) du réseau entraîné :"
   ]
  },
  {
   "cell_type": "code",
   "execution_count": null,
   "id": "71ed74bd",
   "metadata": {},
   "outputs": [],
   "source": []
  },
  {
   "cell_type": "markdown",
   "id": "f8608e64-2aaa-49dd-960c-df97a710c867",
   "metadata": {},
   "source": [
    "Faire afficher la matrice de confusion, avec les labels écrits explicitement :"
   ]
  },
  {
   "cell_type": "code",
   "execution_count": null,
   "id": "00af8955",
   "metadata": {},
   "outputs": [],
   "source": []
  },
  {
   "cell_type": "markdown",
   "id": "fa339aad",
   "metadata": {},
   "source": [
    "# 4 - Entraîner le réseau de neurones avec seulement 1 indicateur à la fois parmi les 50\n",
    "\n",
    "À cette étape du problème, l'idée est d'entraîner le RND non plus avec la globalité des 50 indicateurs, mais de considérer les indicateurs un par un, pour voir quelle est la précision du réseau entraîné avec les données de chaque indicateur pris séparément...\n",
    "\n",
    "## 4.1 $-$ Construire le réseau de neurones pour 1 indicateur en entrée :\n",
    "\n",
    "Définir le RND `model_1` identique au RND `model` sauf pour la couche d'entrée qui sera maintenant dimensionnée à `1`, compiler le réseau et afficher sa structure :"
   ]
  },
  {
   "cell_type": "markdown",
   "id": "54b0f9c2-ebcd-4b59-bbd1-07f0ab340dad",
   "metadata": {},
   "source": []
  },
  {
   "cell_type": "markdown",
   "id": "f18f362e-10e9-414a-8d48-82a675127bd9",
   "metadata": {},
   "source": [
    "Affichage graphique de la structure du réseau :"
   ]
  },
  {
   "cell_type": "code",
   "execution_count": null,
   "id": "e1ec26ed",
   "metadata": {},
   "outputs": [],
   "source": [
    "tf.keras.utils.plot_model(model_1, show_shapes=True, show_layer_activations=True)"
   ]
  },
  {
   "cell_type": "markdown",
   "id": "e8197c2f-0732-4097-91f9-1358a1f7e916",
   "metadata": {},
   "source": [
    "### Sauvegarder les poids initiaux du réseau de neurones\n",
    "\n",
    "- Enregistrer les poids du réseau de neurones initial dans le dossier `weights` avec le préfixe `dense_1_init`.\n",
    "- Afficher la liste des fichiers du dossier `weights` qui commencent par `dense_1_init`."
   ]
  },
  {
   "cell_type": "code",
   "execution_count": null,
   "id": "aaef88a2",
   "metadata": {},
   "outputs": [],
   "source": []
  },
  {
   "cell_type": "markdown",
   "id": "d04eb52f-a1a0-43c3-a1cf-95a142c3ad27",
   "metadata": {},
   "source": [
    "## 4.2 $-$ Entraîner le réseau avec chacun des 50 indicateurs pris séparément\n",
    "\n",
    "Construire une boucle réalisant 50 itérations, et à chaque itération `i` :\n",
    "- Extraire les données d'entraînement et de validation correspondant à l'indicateur de rang `i`,\n",
    "- Charger les poids initiaux du RND `model_1`,\n",
    "- Fixer la graine des générateurs aléatoires de **tensorflow**,\n",
    "- Entraîner le réseau avec les données d'entraînement et de validation de l'indicateur `i`, avec mesure des performance à chaque époque, en choisissant<br>\n",
    "  les meilleures valeurs de `epoch` et `batch_size` compte tenu des résultats précédents.\n",
    "- Calculer les inférences scalaires du réseau pour les données de validation, en déduire la précision du réseau entraîné avec l'indicateur de rang `i`,\n",
    "- Stocker dans la liste `accuracy` la précision du réseau entraîné.\n",
    "- Afficher la précision du réseau entraîné avec chacun des 50 indicateurs : à l'aide de la page [sphx-glr-plot-types-basic-bar-py](https://matplotlib.org/stable/plot_types/basic/bar.html#sphx-glr-plot-types-basic-bar-py) tracer un \"diagramme en bâtons\" avec la fonction `bar` du module **matplotlib**, montrant :\n",
    "    - en abcisses, le rang des indicateurs de 0 à 49,\n",
    "    - en ordonnées, la précision en % du réseau entrainé avec chacun des 50 indicateurs...<br>\n",
    "      *indications* : on pourra passer l'argument `figsize=(15,5)` à l'appel de la fonction `plt.subplots` pour régler la taille de la figure..."
   ]
  },
  {
   "cell_type": "code",
   "execution_count": null,
   "id": "9457ff2d",
   "metadata": {},
   "outputs": [],
   "source": []
  },
  {
   "cell_type": "markdown",
   "id": "2c743aec-1441-446f-b152-974f5bd4efcb",
   "metadata": {},
   "source": [
    "## 4.3 $-$ Rechercher les indicateurs les plus pertinents\n",
    "\n",
    "L'allure de la figure précédente suggère que certains indicateurs n'offrent aucune pertinence pour la classification du matériau percé (précision égale à 50 % $\\leadsto$ la même que si on classait les matériaux au hasard...), alors que d'autres conduisent à eux seuls à des précisions de classification supérieures à 80 voire 90 %.\n",
    "\n",
    "Faire afficher les labels des indicateurs donnant un réseau entraîné dont la précision est meilleure que 90% :"
   ]
  },
  {
   "cell_type": "code",
   "execution_count": null,
   "id": "de19febf",
   "metadata": {},
   "outputs": [],
   "source": []
  },
  {
   "cell_type": "markdown",
   "id": "74e3531a-0c5b-4aa5-8580-59d5fa28a905",
   "metadata": {},
   "source": [
    "Classer par ordre décroissant de précision les indicateurs sélectionnés (afficher la précision, le label et le rang des indicateurs):"
   ]
  },
  {
   "cell_type": "code",
   "execution_count": null,
   "id": "f85f43f4-726f-4704-8443-51247b260c5d",
   "metadata": {},
   "outputs": [],
   "source": []
  },
  {
   "cell_type": "markdown",
   "id": "a5f20605-7f12-464b-82e1-f3c3317baca3",
   "metadata": {},
   "source": [
    "# 5 $-$ Entraînement final avec les indicateurs les plus pertinents\n",
    "\n",
    "Parmis les capteurs utilisables sur le banc de perçage, certains sont compliqués à rajouter (par exemple le capteur de force axiale), d'autres sont relativement simples à ajouter (les accéléromètres par exemple) et d'autres encore sont installés de façon native quand le banc est construit (comme les capteurs de courant...) et sont donc particulièrement intéressants à utiliser..\n",
    "\n",
    "Refaire l'entraînement du RND en ne conservant que le[s] indicateur[s] que vous jugez pertinent[s], donnant une précision meilleure que 90 %.<br>\n",
    "Expliquez pourquoi les indicateurs que vous avez retenus sont des indicateurs *pertinents*<br>\n",
    "Faire afficher la matrice de confusion..."
   ]
  },
  {
   "cell_type": "code",
   "execution_count": null,
   "id": "ba9b8583",
   "metadata": {},
   "outputs": [],
   "source": []
  },
  {
   "cell_type": "markdown",
   "id": "c8ee6114-e5c3-48cb-b871-e485447735d3",
   "metadata": {},
   "source": [
    "# 6 $-$ Bilan\n",
    "\n",
    "- Quelles conclusions tirez-vous de la résolution de ce problème ?\n",
    "\n",
    " \n",
    "- Quelles applications pourriez-vous envisager pour ce réseau entraîné à classifier le matériau percé ?\n",
    "\n",
    " \n",
    "- Quelles suite pourriez-vous donner à cette étude ?\n",
    "\n",
    " "
   ]
  },
  {
   "cell_type": "code",
   "execution_count": null,
   "id": "d6b3f71b-9394-43b9-b067-6c4b5ccc4885",
   "metadata": {},
   "outputs": [],
   "source": []
  }
 ],
 "metadata": {
  "kernelspec": {
   "display_name": "Python 3",
   "language": "python",
   "name": "python3"
  },
  "language_info": {
   "codemirror_mode": {
    "name": "ipython",
    "version": 3
   },
   "file_extension": ".py",
   "mimetype": "text/x-python",
   "name": "python",
   "nbconvert_exporter": "python",
   "pygments_lexer": "ipython3",
   "version": "3.8.13"
  },
  "vscode": {
   "interpreter": {
    "hash": "59efb73689a87797e5b559213389ffec211a73836f88e499eb23a412800cba3c"
   }
  }
 },
 "nbformat": 4,
 "nbformat_minor": 5
}
