{
 "cells": [
  {
   "cell_type": "markdown",
   "metadata": {},
   "source": [
    "# Template pour le rapport APP-ML"
   ]
  },
  {
   "cell_type": "markdown",
   "metadata": {},
   "source": [
    "## 1 $-$ Le type des cellules d'un notebook"
   ]
  },
  {
   "cell_type": "markdown",
   "metadata": {},
   "source": [
    "Les deux principaux types utilisés pour écrire un rapport de projet sont:\n",
    "- **Markdown** pour écrire du texte avec mise en forme élementaire (gras, italique....)<br>\n",
    "On peut trouver une multitude de *Guide Markdown* sur internet, celui-ci est relativement simple et complet : [https://medium.com/analytics-vidhya/the-ultimate-markdown-guide-for-jupyter-notebook...](https://medium.com/analytics-vidhya/the-ultimate-markdown-guide-for-jupyter-notebook-d5e5abf728fd)<br>\n",
    "Les cellules de type *Markdown* permettent d'écrire autre chose que du code Python (du texte, des titres...), comme le montre la suite du document.<br><br>\n",
    "- **Code** : pour écrire du code Python\n",
    "<br>\n",
    "La boîte des *types de cellule* permet de changer le type d'une cellule :\n",
    "<img src=\"images/type_cellule.png\" width=\"700\">\n",
    "<br>"
   ]
  },
  {
   "cell_type": "markdown",
   "metadata": {},
   "source": [
    "*Tu peux voir le code source d'une cellule Markdown du notebook en faissant un double-clic sur la cellule, et tu peux obtenir le rendu de la cellule en l'exécutant avec SHIFT + ENTER*"
   ]
  },
  {
   "cell_type": "markdown",
   "metadata": {},
   "source": [
    "## 2 $-$ Exemples de cellules *Markdown* pour les titres"
   ]
  },
  {
   "cell_type": "markdown",
   "metadata": {},
   "source": [
    "# Titre... : cellule  *Markdown* avec un \"# \" (dièse + espace) en début de ligne"
   ]
  },
  {
   "cell_type": "markdown",
   "metadata": {},
   "source": [
    "## Titre niveau 1 : cellule Markdown avec un \"## \" en début de ligne"
   ]
  },
  {
   "cell_type": "markdown",
   "metadata": {},
   "source": [
    "### Titre niveau 2 : cellule Markdown avec un \"### \" en début de ligne"
   ]
  },
  {
   "cell_type": "markdown",
   "metadata": {},
   "source": [
    "#### Titre niveau 3 : cellule Markdown avec un \"#### \" en début de ligne"
   ]
  },
  {
   "cell_type": "markdown",
   "metadata": {},
   "source": [
    "## 3 $-$ Aller à la ligne dans une cellule Markdown"
   ]
  },
  {
   "cell_type": "markdown",
   "metadata": {},
   "source": [
    "Dans une cellule *Markdown* les sauts de ligne que tu fais sont ignorés pour le rendu de la cellule : si tu veux forcer un saut de ligne, utilise la balise `<br>` comme dans l'exemple ci-dessous:<br>\n",
    "une ligne <br>\n",
    "une autre ligne."
   ]
  },
  {
   "cell_type": "markdown",
   "metadata": {},
   "source": [
    "## 4 $-$ Mettre du texte en italique, gras ou *code inline*"
   ]
  },
  {
   "cell_type": "markdown",
   "metadata": {},
   "source": [
    "Si tu double-cliques sur cette cellule tu peux voir dans son code source comment utiliser le caractère * pour mettre des mots en *italique*, en **gras**<br>\n",
    "Attention à ne pas mettre d'espace entre le caratère * et le mot que tu veux mettre en italique ou en gras.\n",
    "<br><br>\n",
    "Le caractère 'accent grave' (\"ALT GR + 7\" sur un clavier PC) entourant du texte met le texte en mode `code inline`."
   ]
  },
  {
   "cell_type": "markdown",
   "metadata": {},
   "source": [
    "## 5 $-$ Insérer des images dans le notebook"
   ]
  },
  {
   "cell_type": "markdown",
   "metadata": {},
   "source": [
    "Pour insérer dans le notebook une image du dossier `images/` il suffit d'utiliser la syntaxe :<br>\n",
    "\n",
    "    ![commentaire](images/nom_fichier_image)\n",
    "    \n",
    "Voici un exemple d'insertion de l'image `images/exemple.png`:\n",
    "![exemple](images/exemple.png)"
   ]
  },
  {
   "cell_type": "markdown",
   "metadata": {},
   "source": [
    "Si tu veux modifier la taille de l'image, il faut utiliser la balise HTML `<img src=\"...\" width=\"...\">` :<br>par exemple `<img src=\"images/exemple.png\" width=\"300\">` affiche l'image ci-dessous"
   ]
  },
  {
   "cell_type": "markdown",
   "metadata": {},
   "source": [
    "<img src=\"images/exemple.png\" width=\"300\"> "
   ]
  },
  {
   "cell_type": "code",
   "execution_count": null,
   "metadata": {},
   "outputs": [],
   "source": []
  }
 ],
 "metadata": {
  "kernelspec": {
   "display_name": "Python 3",
   "language": "python",
   "name": "python3"
  },
  "language_info": {
   "codemirror_mode": {
    "name": "ipython",
    "version": 3
   },
   "file_extension": ".py",
   "mimetype": "text/x-python",
   "name": "python",
   "nbconvert_exporter": "python",
   "pygments_lexer": "ipython3",
   "version": "3.8.10"
  }
 },
 "nbformat": 4,
 "nbformat_minor": 5
}
