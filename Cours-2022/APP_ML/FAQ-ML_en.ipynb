{
 "cells": [
  {
   "cell_type": "markdown",
   "metadata": {},
   "source": [
    "# FAQ for Machine Learning"
   ]
  },
  {
   "cell_type": "markdown",
   "metadata": {},
   "source": [
    "# 1/ Resize an image\n",
    "\n",
    "We assume here that `img` is a *ndarray* containing an image of dimensions $(W, H, C)$: for example (100, 200, 3) for a RGB color image of 100 pixels width $\\times$ 200 pixels height, or (100, 200, 1) for the same *grayscale* image. <br>\n",
    "Remember that the shape of the `img` ndarray is the tuple `(H,W,C)` $\\leadsto$ `H` and `W` are swapped in the ndarray relative to the image.<br>\n",
    "We want to *resize* the image in $w \\times h$ pixels:."
   ]
  },
  {
   "cell_type": "markdown",
   "metadata": {},
   "source": [
    "Solution with the **scikit-image** module:"
   ]
  },
  {
   "cell_type": "code",
   "execution_count": null,
   "metadata": {},
   "outputs": [],
   "source": [
    "from skimage.transform import resize\n",
    "...\n",
    "new_shape = (h, w, img.shape(2))           # (h,w)! ndarray shape for the new image size w x h pixels\n",
    "img = resize(img, new_shape)           "
   ]
  },
  {
   "cell_type": "markdown",
   "metadata": {},
   "source": [
    "Another solution with the **openCV** module (faster)"
   ]
  },
  {
   "cell_type": "code",
   "execution_count": null,
   "metadata": {},
   "outputs": [],
   "source": [
    "import cv2\n",
    "...\n",
    "img = cv2.resize(img, dsize=(w, h))      # warning: with cv2 you give the image size, not the array shape."
   ]
  },
  {
   "cell_type": "markdown",
   "metadata": {},
   "source": [
    "# 2/ Split a dataset into a *training* set and *test* set\n",
    "\n",
    "We assume here that `X` and `Y` are two *ndarray* :\n",
    "- `X` is the full data set array\n",
    "- `Y` is the label array.\n",
    "\n",
    "To split `X `and `Y` into a *train* part and a *test* part:`"
   ]
  },
  {
   "cell_type": "code",
   "execution_count": null,
   "metadata": {
    "tags": []
   },
   "outputs": [],
   "source": [
    "from sklearn.model_selection import train_test_split\n",
    "...\n",
    "x_train, x_test, y_train, y_test = train_test_split(X, Y, \n",
    "                                                    stratify=Y,        # use Y to fairly distribute all classes among the set train and test\n",
    "                                                    test_size=0.2,     # 20 % test, 80% train \n",
    "                                                    random_state=SEED, # if you want a repeatable shuffle, set the rendom seed\n",
    "                                                    shuffle=True)      # set to True if you want to shuffle teh hole set"
   ]
  },
  {
   "cell_type": "markdown",
   "metadata": {},
   "source": [
    "# 3/ Delete the (numerous) warning messages from the **tensorflow** module:"
   ]
  },
  {
   "cell_type": "code",
   "execution_count": 5,
   "metadata": {},
   "outputs": [],
   "source": [
    "# suppress the display of tensorflow warnings:\n",
    "import os\n",
    "os.environ['TF_CPP_MIN_LOG_LEVEL'] = '3'"
   ]
  },
  {
   "cell_type": "markdown",
   "metadata": {
    "tags": []
   },
   "source": [
    "0 = all messages are logged (default behavior)<br>\n",
    "1 = INFO messages are not printed<br>\n",
    "2 = INFO and WARNING messages are not printed<br>\n",
    "3 = INFO, WARNING, and ERROR messages are not printed<br>"
   ]
  },
  {
   "cell_type": "code",
   "execution_count": null,
   "metadata": {},
   "outputs": [],
   "source": []
  }
 ],
 "metadata": {
  "kernelspec": {
   "display_name": "Python 3",
   "language": "python",
   "name": "python3"
  },
  "language_info": {
   "codemirror_mode": {
    "name": "ipython",
    "version": 3
   },
   "file_extension": ".py",
   "mimetype": "text/x-python",
   "name": "python",
   "nbconvert_exporter": "python",
   "pygments_lexer": "ipython3",
   "version": "3.8.10"
  }
 },
 "nbformat": 4,
 "nbformat_minor": 4
}
